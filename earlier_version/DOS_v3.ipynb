{
 "cells": [
  {
   "cell_type": "code",
   "execution_count": 1,
   "metadata": {},
   "outputs": [],
   "source": [
    "# deep_optimal_stopping.ipynb\n",
    "import torch\n",
    "import numpy as np\n",
    "import matplotlib.pyplot as plt\n",
    "from scipy.linalg import cholesky\n",
    "from tqdm.notebook import tqdm\n",
    "from torch.utils.data import TensorDataset, DataLoader\n",
    "from scipy.stats import norm\n",
    "import os\n",
    "import random\n",
    "from torch import nn\n",
    "# 配置\n",
    "device = torch.device(\"cuda\" if torch.cuda.is_available() else \"cpu\")\n",
    "torch.manual_seed(42)\n",
    "np.random.seed(42)"
   ]
  },
  {
   "cell_type": "code",
   "execution_count": 2,
   "metadata": {},
   "outputs": [],
   "source": [
    "class StoppingPolicy(torch.nn.Module):\n",
    "    \"\"\"\n",
    "    3层神经网络,包含批量归一化和Xavier初始化\n",
    "    \"\"\"\n",
    "    def __init__(self, input_dim, hidden_dim=40):\n",
    "        super().__init__()\n",
    "        self.net = torch.nn.Sequential(\n",
    "            torch.nn.Linear(input_dim, hidden_dim),\n",
    "            torch.nn.BatchNorm1d(hidden_dim),\n",
    "            torch.nn.ReLU(),\n",
    "            torch.nn.Linear(hidden_dim, hidden_dim),\n",
    "            torch.nn.BatchNorm1d(hidden_dim),\n",
    "            torch.nn.ReLU(),\n",
    "            torch.nn.Linear(hidden_dim, 1),\n",
    "            torch.nn.Sigmoid()\n",
    "        )\n",
    "        # Xavier初始化\n",
    "        for layer in self.net:\n",
    "            if isinstance(layer, torch.nn.Linear):\n",
    "                torch.nn.init.xavier_normal_(layer.weight)\n",
    "\n",
    "    def forward(self, x):\n",
    "        return self.net(x)"
   ]
  },
  {
   "cell_type": "code",
   "execution_count": 3,
   "metadata": {},
   "outputs": [],
   "source": [
    "def set_seed(seed=42):\n",
    "    os.environ['PYTHONHASHSEED'] = str(seed)\n",
    "    random.seed(seed)\n",
    "    np.random.seed(seed)\n",
    "    torch.manual_seed(seed)\n",
    "    if torch.cuda.is_available():\n",
    "        torch.cuda.manual_seed(seed)\n",
    "        torch.cuda.manual_seed_all(seed)\n",
    "        torch.backends.cudnn.deterministic = True\n",
    "        torch.backends.cudnn.benchmark = False\n",
    "\n",
    "set_seed(42)  # 全局固定随机种子"
   ]
  },
  {
   "cell_type": "code",
   "execution_count": 4,
   "metadata": {},
   "outputs": [],
   "source": [
    "class PathGenerator:\n",
    "    \"\"\"路径生成的抽象基类\"\"\"\n",
    "    def __init__(self, d, steps, T):\n",
    "        self.d = d          # 维度\n",
    "        self.steps = steps  # 时间步数\n",
    "        self.T = T         # 总时间\n",
    "\n",
    "    def generate(self, n_paths):\n",
    "        raise NotImplementedError"
   ]
  },
  {
   "cell_type": "code",
   "execution_count": 5,
   "metadata": {},
   "outputs": [],
   "source": [
    "class BlackScholesGenerator(PathGenerator):\n",
    "    \"\"\"\n",
    "    多维Black-Scholes路径生成器\n",
    "    \"\"\"\n",
    "    def __init__(self, d, steps, T, r, sigma, rho, div):\n",
    "        super().__init__(d, steps, T)\n",
    "        self.r = r\n",
    "        self.sigma = sigma\n",
    "        self.rho = rho\n",
    "        self.div = div\n",
    "        self.dt = T / steps\n",
    "        self.drift = (self.r - self.div - 0.5 * self.sigma**2) * self.dt  # 新增此行\n",
    "        self._build_cov_matrix()\n",
    "        \n",
    "    def _build_cov_matrix(self):\n",
    "        \"\"\"构建相关系数矩阵\"\"\"\n",
    "        # 构造单位时间协方差矩阵（不乘 dt）\n",
    "        cov = np.eye(self.d) * self.sigma**2\n",
    "        cov += np.ones((self.d, self.d)) * (self.rho * self.sigma**2)\n",
    "        np.fill_diagonal(cov, self.sigma**2)  # 防止对角重复加\n",
    "\n",
    "        # 然后 Cholesky 分解\n",
    "        self.L = torch.tensor(cholesky(cov, lower=True), device=device, dtype=torch.float32)\n",
    "        \n",
    "    def generate(self, n_paths):\n",
    "        \"\"\"生成路径 如有GPU可加速 \"\"\"\n",
    "        paths = torch.zeros(n_paths, self.steps+1, self.d, device=device, dtype=torch.float32)\n",
    "        paths[:, 0] = 100.0  # 初始价格\n",
    "        \n",
    "        noise = torch.randn(n_paths, self.steps, self.d, device=device)\n",
    "        \n",
    "        sqrt_dt = torch.tensor(np.sqrt(self.dt), device=device, dtype=torch.float32)\n",
    "        with tqdm(total=self.steps, desc=\"生成Black-Scholes路径\", leave=False) as pbar:\n",
    "            for t in range(1, self.steps+1):\n",
    "                increments = self.drift + (self.L @ noise[:, t-1].T).T* sqrt_dt\n",
    "                paths[:, t] = paths[:, t-1] * torch.exp(increments)\n",
    "                pbar.update(1)\n",
    "                \n",
    "        return paths\n"
   ]
  },
  {
   "cell_type": "code",
   "execution_count": 6,
   "metadata": {},
   "outputs": [],
   "source": [
    "class DeepOptimalStoppingTrainer:\n",
    "    \"\"\"\n",
    "    实现论文第2节的递归训练算法\n",
    "    \"\"\"\n",
    "    def __init__(self, generator, hidden_dim=40):\n",
    "        self.generator = generator\n",
    "        self.policies = self._init_policies(hidden_dim)\n",
    "        self.optimizers = [torch.optim.Adam(p.parameters(), lr=0.001) \n",
    "                          for p in self.policies]\n",
    "        \n",
    "    def _init_policies(self, hidden_dim):\n",
    "        input_dim = self.generator.d + 1  # 状态+收益\n",
    "        # 初始化 steps+1 个策略网络（对应时间步 0~steps）\n",
    "        return [StoppingPolicy(input_dim, hidden_dim).to(device)\n",
    "                for _ in range(self.generator.steps + 1)]  # 修改为 steps+1\n",
    "    \n",
    "    def train(self, n_paths=8192, epochs=3000, batch_size=2048):\n",
    "        \"\"\"执行反向递归训练\"\"\"\n",
    "        paths = self.generator.generate(n_paths)\n",
    "        # 从到期日向前递归训练\n",
    "        for step in tqdm(reversed(range(self.generator.steps)), desc=\"Training steps\"):\n",
    "            # 动态计算当前时间步的收益\n",
    "            current_payoff = self._compute_payoffs(paths, start_step=step)[:, step]\n",
    "            X, y = self._prepare_training_data(paths, current_payoff, step)\n",
    "            self._train_single_step(step, X, y, epochs, batch_size)\n",
    "    \n",
    "    def _compute_payoffs(self, paths):\n",
    "        \"\"\"计算各时间步的即时收益（需子类实现）\"\"\"\n",
    "        raise NotImplementedError\n",
    "    \n",
    "    def _prepare_training_data(self, paths, current_payoff, step):\n",
    "        \"\"\"准备训练数据（含嵌套蒙特卡洛）\"\"\"\n",
    "        current_state = paths[:, step]\n",
    "        X = torch.cat([current_state, current_payoff.unsqueeze(1)], dim=1)\n",
    "        \n",
    "        # 嵌套蒙特卡洛计算继续价值（传递起始时间步）\n",
    "        continuation = self._nested_mc(paths, step)\n",
    "        y = (current_payoff >= continuation).float()\n",
    "        return X, y\n",
    "\n",
    "    def _nested_mc(self, paths, step, J=5000):\n",
    "        \"\"\"嵌套蒙特卡洛模拟，传递起始时间步\"\"\"\n",
    "        n_paths = paths.size(0)\n",
    "        continuation = torch.zeros(n_paths, device=device)\n",
    "        \n",
    "        with tqdm(total=n_paths, desc=f\"嵌套MC(t={step})\", leave=False) as main_pbar:\n",
    "            for i in range(n_paths):\n",
    "                # 生成J条继续路径（从当前step开始）\n",
    "                new_paths = self._generate_continuations(paths[i, step], step, J)\n",
    "                \n",
    "                # 应用后续策略，传递起始时间步\n",
    "                exercise_times = self._apply_policies(new_paths, start_step=step)\n",
    "                \n",
    "                # 计算继续路径的收益，起始时间步为step\n",
    "                payoffs = self._compute_continuation_payoffs(new_paths, exercise_times, step)\n",
    "                \n",
    "                continuation[i] = payoffs.mean()\n",
    "                main_pbar.update(1)\n",
    "        \n",
    "        return continuation\n",
    "    \n",
    "    def _generate_continuations(self, current_state, step, J):\n",
    "        \"\"\"从当前状态生成继续路径（需子类实现）\"\"\"\n",
    "        raise NotImplementedError\n",
    "    \n",
    "    def _apply_policies(self, paths, start_step):\n",
    "        \"\"\"应用策略网络（修正时间步映射），并打印调试信息\"\"\"\n",
    "        batch_size = paths.size(0)\n",
    "        # 初始设定所有路径的行权时刻为最后一步\n",
    "        exercise_times = torch.full((batch_size,), self.generator.steps, device=device)\n",
    "        \n",
    "        # 继续路径的本地时间步数（注意：paths 中第0步为当前状态）\n",
    "        total_local_steps = paths.size(1)\n",
    "        #print(f\"[DEBUG] start_step: {start_step}, total_local_steps: {total_local_steps}\")\n",
    "        \n",
    "        # 遍历从本地时间步1开始（因为第0步为当前状态）\n",
    "        for local_t in range(1, total_local_steps):\n",
    "            global_t = start_step + local_t  # 将局部时间步映射为全局时间步\n",
    "            if global_t > self.generator.steps:\n",
    "                break  \n",
    "            states = paths[:, local_t]  # shape: [batch_size, d]\n",
    "            \n",
    "            # 截取从起始时间步到当前局部时间步的部分路径，\n",
    "            # 用于计算折现 payoff，注意这里传入的 start_step 保持全局时间参考\n",
    "            partial_paths = paths[:, :local_t+1]  # shape: [batch_size, local_t+1, d]\n",
    "            computed_payoffs = self._compute_payoffs(partial_paths, start_step=start_step)\n",
    "            # computed_payoffs 的 shape 为 [batch_size, local_t+1]，取最后一列作为当前时刻的 payoff\n",
    "            payoffs = computed_payoffs[:, local_t]\n",
    "            \n",
    "            # debug输出：检查当前局部时间步的平均 payoff\n",
    "            avg_payoff = payoffs.mean().item()\n",
    "            \n",
    "            # 拼接状态与 payoff 作为策略网络的输入（假设输入维度为 d+1）\n",
    "            inputs = torch.cat([states, payoffs.unsqueeze(1)], dim=1)\n",
    "            stop_probs = self.policies[global_t](inputs).squeeze() \n",
    "            avg_stop_prob = stop_probs.mean().item()\n",
    "\n",
    "            stop_decisions = (stop_probs >= 0.5).float()\n",
    "            count_stop = (stop_decisions == 1).sum().item()\n",
    "            \n",
    "            #print(f\"[DEBUG] global_t: {global_t}, local_t: {local_t}, avg_payoff: {avg_payoff:.4f}, avg_stop_prob: {avg_stop_prob:.4f}, stops: {count_stop}/{batch_size}\")\n",
    "            \n",
    "            mask = (exercise_times == self.generator.steps) & (stop_decisions == 1)\n",
    "            exercise_times[mask] = global_t\n",
    "        \n",
    "        #print(f\"[DEBUG] Final exercise_times: {exercise_times}\")\n",
    "        return exercise_times\n",
    "    \n",
    "    def _apply_policies(self, paths, start_step):#以这个为准！！!\n",
    "        \"\"\"应用训练好的策略网络 论文公式5 \"\"\"\n",
    "        exercise_times = torch.full((paths.size(0),), self.generator.steps, device=device)\n",
    "        for t in range(start_step + 1, paths.size(1)):\n",
    "            states = paths[:, t]\n",
    "            #print(\"是这里吗\")\n",
    "            # 动态计算当前时间步的收益，起始时间步为start_step\n",
    "            payoffs = self._compute_payoffs(\n",
    "                paths[:, :t+1],  # 截取到当前时间步的路径\n",
    "                start_step=start_step\n",
    "            )[:, t - start_step]  # 局部时间步索引\n",
    "            \n",
    "            inputs = torch.cat([states, payoffs.unsqueeze(1)], dim=1)\n",
    "            stop_probs = self.policies[t](inputs).squeeze()\n",
    "            stop_decisions = (stop_probs >= 0.5).float()\n",
    "            \n",
    "            mask = (exercise_times == self.generator.steps) & (stop_decisions == 1)\n",
    "            exercise_times[mask] = t\n",
    "        \n",
    "        return exercise_times\n",
    "\n",
    "    def _train_single_step(self, step, X, y, epochs, batch_size):\n",
    "        \"\"\"训练单个时间步的策略网络\"\"\"\n",
    "        dataset = torch.utils.data.TensorDataset(X, y)\n",
    "        loader = torch.utils.data.DataLoader(dataset, batch_size=batch_size, shuffle=True)\n",
    "        \n",
    "        for epoch in tqdm(range(epochs), desc=f\"Training step {step}\", leave=False):\n",
    "            for batch_X, batch_y in loader:\n",
    "                self.optimizers[step].zero_grad()\n",
    "                pred = self.policies[step](batch_X).squeeze()\n",
    "                loss = torch.nn.BCELoss()(pred, batch_y)\n",
    "                loss.backward()\n",
    "                self.optimizers[step].step()\n",
    "    \n",
    "    def compute_lower_bound(self, n_paths=4096000, conf_level=0.95):\n",
    "        \"\"\"计算下界及置信区间 论文3.1节 \"\"\"\n",
    "        # 生成独立路径集\n",
    "        test_paths = self.generator.generate(n_paths)\n",
    "        \n",
    "        # 应用训练好的策略确定停止时间\n",
    "        exercise_times = self._apply_policies(test_paths, 0)\n",
    "        \n",
    "        # 收集收益\n",
    "        payoffs = torch.zeros(n_paths, device=device)\n",
    "        for i in range(n_paths):\n",
    "            t = int(exercise_times[i].item())\n",
    "            payoffs[i] = self._compute_payoffs(test_paths[i:i+1])[0, t]\n",
    "        \n",
    "        # 计算统计量\n",
    "        mean = payoffs.mean().item()\n",
    "        std = payoffs.std(unbiased=True).item()\n",
    "        z = 1.96 if conf_level == 0.95 else norm.ppf((1 + conf_level)/2)\n",
    "        ci_half = z * std / np.sqrt(n_paths)\n",
    "        \n",
    "        return {\n",
    "            'estimate': mean,\n",
    "            'lower': mean - ci_half,\n",
    "            'upper': mean + ci_half,\n",
    "            'std': std\n",
    "        }\n",
    "    \n",
    "    def compute_upper_bound(self, n_paths=1024, J=16384, conf_level=0.95):\n",
    "        \"\"\"计算上界及置信区间\"\"\"\n",
    "        # 生成独立主路径\n",
    "        primary_paths = self.generator.generate(n_paths)\n",
    "        payoffs = self._compute_payoffs(primary_paths, start_step=0)  # shape: [n_paths, steps+1]\n",
    "        steps = self.generator.steps  \n",
    "        \n",
    "        # ============== 新增：计算主路径的行权时间 ==============\n",
    "        # 初始化行权时间，默认在到期日（steps）行权\n",
    "        exercise_times = torch.full((n_paths,), steps, device=device)\n",
    "        \n",
    "        # 遍历每个时间步，应用策略网络确定行权时间\n",
    "        for t in range(steps):\n",
    "            # 获取主路径在时间t的状态和收益\n",
    "            states = primary_paths[:, t]  # shape: [n_paths, d]\n",
    "            current_payoff = payoffs[:, t]  # shape: [n_paths]\n",
    "            \n",
    "            # 拼接输入（状态 + 当前收益）\n",
    "            inputs = torch.cat([states, current_payoff.unsqueeze(1)], dim=1)\n",
    "            \n",
    "            # 应用策略网络t进行停止决策\n",
    "            stop_probs = self.policies[t](inputs).squeeze()\n",
    "            stop_decisions = (stop_probs >= 0.5).float()  # 0或1\n",
    "            \n",
    "            # 更新行权时间：仅对未停止的路径生效\n",
    "            mask = (exercise_times == steps) & (stop_decisions == 1)\n",
    "            exercise_times[mask] = t\n",
    "        \n",
    "        # 计算平均行权时间\n",
    "        avg_exercise_time = exercise_times.float().mean().item()\n",
    "        print(f\"平均行权时间: {avg_exercise_time:.2f} (步数), 对应时间: {avg_exercise_time * self.generator.dt:.2f} 年\")\n",
    "        # ====================================================\n",
    "        \n",
    "        # 后续原有代码（计算鞅和上界）\n",
    "        M = torch.zeros(n_paths, steps + 1, device=device)\n",
    "        E_H_prev = payoffs[:, 0].clone()  # 初始条件期望\n",
    "        \n",
    "        for t in tqdm(range(1, steps+1), desc=\"Building Martingale\"):\n",
    "            steps_remaining = steps - (t - 1)  \n",
    "            time_points = steps_remaining + 1  \n",
    "            cont_paths = torch.zeros(n_paths, J, time_points, self.generator.d, device=device)\n",
    "            cont_values = torch.zeros(n_paths, J, device=device)\n",
    "            \n",
    "            for i in range(n_paths):\n",
    "                current_state = primary_paths[i, t-1]\n",
    "                cont_paths[i] = self._generate_continuations(current_state, t-1, J)\n",
    "                ex_times = self._apply_policies(cont_paths[i], start_step=t-1)\n",
    "                cont_values[i] = self._compute_continuation_payoffs(\n",
    "                    cont_paths[i], ex_times, current_step=t-1\n",
    "                )\n",
    "            \n",
    "            E_H_t = cont_values.mean(dim=1)\n",
    "            delta_M = torch.clamp(payoffs[:, t-1] - E_H_prev, min=0)\n",
    "            M[:, t] = M[:, t-1] + delta_M\n",
    "            E_H_prev = E_H_t.clone()\n",
    "            \n",
    "            # Debug信息（可选）\n",
    "            avg_cont = E_H_prev.mean().item()\n",
    "            avg_payoff = payoffs[:, t-1].mean().item()\n",
    "            print(f\"时间步 {t}: 平均立即收益 = {avg_payoff:.4f}, 平均继续价值 = {avg_cont:.4f}, ΔM均值 = {delta_M.mean().item():.4f}\")\n",
    "        \n",
    "        # 计算调整后的收益\n",
    "        adjusted_payoffs = torch.max(payoffs - M[:, :payoffs.size(1)], dim=1)[0]\n",
    "        \n",
    "        # 统计结果\n",
    "        mean_est = adjusted_payoffs.mean().item()\n",
    "        std_est = adjusted_payoffs.std(unbiased=True).item()\n",
    "        z = 1.96 if conf_level == 0.95 else norm.ppf((1+conf_level)/2)\n",
    "        ci_half = z * std_est / np.sqrt(n_paths)\n",
    "        \n",
    "        return {\n",
    "            'estimate': mean_est,\n",
    "            'lower': mean_est - ci_half,\n",
    "            'upper': mean_est + ci_half,\n",
    "            'std': std_est,\n",
    "            'avg_exercise_time': avg_exercise_time  # 新增返回平均行权时间\n",
    "        }\n",
    "    \n",
    "    '''\n",
    "    def compute_upper_bound(self, n_paths=1024, J=16384, conf_level=0.95):\n",
    "        \"\"\"计算上界及置信区间（严格遵循对偶公式）\"\"\"\n",
    "        # 生成独立主路径\n",
    "        primary_paths = self.generator.generate(n_paths)\n",
    "        payoffs = self._compute_payoffs(primary_paths, start_step=0)\n",
    "        \n",
    "        # 初始化鞅过程 M 和条件期望缓存\n",
    "        M = torch.zeros(n_paths, self.generator.steps + 1, device=device)\n",
    "        E_H_prev = torch.zeros(n_paths, device=device)\n",
    "        \n",
    "        for t in tqdm(range(self.generator.steps + 1), desc=\"Building Martingale\"):\n",
    "            if t == 0:\n",
    "                H_0 = self.compute_lower_bound(n_paths=n_paths)['estimate']\n",
    "                M[:, 0] = 0\n",
    "                E_H_prev[:] = H_0\n",
    "                continue\n",
    "            \n",
    "            # 关键修正：计算正确的时间步数\n",
    "            steps_remaining = self.generator.steps - (t-1)  # 剩余时间间隔数\n",
    "            time_points = steps_remaining + 1  # 时间点数 = 间隔数 + 1\n",
    "            \n",
    "            # 初始化继续路径张量（修正第三维为time_points）\n",
    "            cont_paths = torch.zeros(\n",
    "                n_paths, \n",
    "                J, \n",
    "                time_points,  # 正确的时间点数\n",
    "                self.generator.d, \n",
    "                device=device\n",
    "            )\n",
    "            \n",
    "            # 生成继续路径并计算条件期望\n",
    "            cont_values = torch.zeros(n_paths, J, device=device)\n",
    "            for i in range(n_paths):\n",
    "                current_state = primary_paths[i, t-1]\n",
    "                cont_paths[i] = self._generate_continuations(current_state, t-1, J)\n",
    "                ex_times = self._apply_policies(cont_paths[i], start_step=t-1)\n",
    "                cont_values[i] = self._compute_continuation_payoffs(\n",
    "                    cont_paths[i], \n",
    "                    ex_times, \n",
    "                    current_step=t-1\n",
    "                )\n",
    "            \n",
    "            # 计算条件期望 E[H_t | F_{t-1}] = mean(cont_values)\n",
    "            E_H_t = cont_values.mean(dim=1)  # 形状 (n_paths,)\n",
    "            \n",
    "            # 计算当前H_{t-1}（即主路径在t-1时刻的收益或继续价值）\n",
    "            H_t_minus_1 = torch.maximum(payoffs[:, t-1], E_H_prev)\n",
    "            \n",
    "            avg_cont = E_H_prev.mean().item()\n",
    "            avg_payoff = H_t_minus_1.mean().item()\n",
    "            print(f\"时间步 {t}: 平均主路径 payoff = {avg_payoff:.4f}, 平均 continuation value = {avg_cont:.4f}\")\n",
    "\n",
    "            # 更新鞅增量：M_t - M_{t-1} = H_t - E[H_t | F_{t-1}]\n",
    "            delta_M = H_t_minus_1 - E_H_prev\n",
    "            M[:, t] = M[:, t-1] + delta_M\n",
    "            \n",
    "            # 更新前一时间步的条件期望\n",
    "            E_H_prev = E_H_t\n",
    "        \n",
    "        # 计算调整后的收益：max(g(n,X_n) - M_n)\n",
    "        adjusted_payoffs = torch.zeros(n_paths, device=device)\n",
    "        for i in range(n_paths):\n",
    "            path_payoffs = payoffs[i]  # 主路径各时间步的收益\n",
    "            adjusted_payoffs[i] = torch.max(path_payoffs - M[i, :len(path_payoffs)])\n",
    "        \n",
    "        # 计算统计量\n",
    "        mean = adjusted_payoffs.mean().item()\n",
    "        std = adjusted_payoffs.std(unbiased=True).item()\n",
    "        z = 1.96 if conf_level == 0.95 else norm.ppf((1 + conf_level)/2)\n",
    "        ci_half = z * std / np.sqrt(n_paths)\n",
    "        \n",
    "        return {\n",
    "            'estimate': mean,\n",
    "            'lower': mean - ci_half,\n",
    "            'upper': mean + ci_half,\n",
    "            'std': std\n",
    "        }\n",
    "    '''\n",
    "    '''\n",
    "    def compute_upper_bound(self, n_paths=1024, J=16384, conf_level=0.95):\n",
    "        \"\"\"计算上界及置信区间 论文3.2节双重方法\"\"\"\n",
    "        # 生成主路径，确保生成的路径形状为 [n_paths, steps+1, d]\n",
    "        primary_paths = self.generator.generate(n_paths)\n",
    "        payoffs = self._compute_payoffs(primary_paths)  # shape: [n_paths, steps+1]\n",
    "        \n",
    "        # 初始化Martingale, M[:,0] = 0，M的形状 [n_paths, steps+1]\n",
    "        M = torch.zeros(n_paths, self.generator.steps + 1, device=device)\n",
    "        \n",
    "        # 对于每个时间步 t 从 0 到 steps-1 进行循环\n",
    "        for t in range(self.generator.steps):\n",
    "            steps_remaining = self.generator.steps - t  # 剩余的时间步数\n",
    "            # 构造 continuation paths：形状 [n_paths, J, steps_remaining+1, d]\n",
    "            cont_paths = torch.zeros(\n",
    "                n_paths,\n",
    "                J,\n",
    "                steps_remaining + 1,  # 注意：这里+1使得包含起始时刻\n",
    "                self.generator.d,\n",
    "                device=device\n",
    "            )\n",
    "            \n",
    "            # 为每条主路径生成对应的 continuation paths\n",
    "            for i in range(n_paths):\n",
    "                # _generate_continuations 接受当前状态 primary_paths[i,t] 和当前时间 t，\n",
    "                # 返回形状 [J, steps_remaining+1, d] 的 continuation paths\n",
    "                cont_paths[i] = self._generate_continuations(primary_paths[i, t], t, J)\n",
    "            \n",
    "            # 计算每条主路径在 t 时刻的继续价值 cont_value\n",
    "            cont_values = torch.zeros(n_paths, device=device)\n",
    "            for i in range(n_paths):\n",
    "                # 对于每个主路径，使用生成的 continuation paths 和当前时间 t，\n",
    "                # 计算停止策略下的停止时刻\n",
    "                ex_times = self._apply_policies(cont_paths[i], t)\n",
    "                # 计算 continuation payoff（需要确保 _compute_continuation_payoffs 正确使用 current_step=t 进行折现）\n",
    "                # 返回的是一个 [J] 维的张量，再取均值\n",
    "                cont_payoffs = self._compute_continuation_payoffs(cont_paths[i], ex_times, current_step=t)\n",
    "                cont_values[i] = cont_payoffs.mean()\n",
    "            \n",
    "            # Debug\n",
    "            current_payoff = payoffs[:, t]  # shape: [n_paths]\n",
    "            avg_cont = cont_values.mean().item()\n",
    "            avg_payoff = current_payoff.mean().item()\n",
    "            print(f\"时间步 {t}: 平均主路径 payoff = {avg_payoff:.4f}, 平均 continuation value = {avg_cont:.4f}\")\n",
    "            \n",
    "            delta_M = (current_payoff >= cont_values).float() * (current_payoff - cont_values)\n",
    "            M[:, t + 1] = M[:, t] + delta_M\n",
    "        \n",
    "        # 调整后的收益：payoff - martingale，取路径上的最大值\n",
    "        adjusted = payoffs - M\n",
    "        max_values, _ = torch.max(adjusted, dim=1)\n",
    "        \n",
    "        # 计算统计量\n",
    "        mean = max_values.mean().item()\n",
    "        std = max_values.std(unbiased=True).item()\n",
    "        z = 1.96 if conf_level == 0.95 else norm.ppf((1 + conf_level) / 2)\n",
    "        ci_half = z * std / np.sqrt(n_paths)\n",
    "        \n",
    "        print(f\"上界估计: {mean:.4f}, 95% CI: [{mean - ci_half:.4f}, {mean + ci_half:.4f}]\")\n",
    "        return {\n",
    "            'estimate': mean,\n",
    "            'lower': mean - ci_half,\n",
    "            'upper': mean + ci_half,\n",
    "            'std': std\n",
    "        }\n",
    "        '''"
   ]
  },
  {
   "cell_type": "code",
   "execution_count": 7,
   "metadata": {},
   "outputs": [],
   "source": [
    "# ====================== 策略网络 ======================\n",
    "class StoppingPolicy(nn.Module):\n",
    "    def __init__(self, input_dim, hidden_dim):\n",
    "        super().__init__()\n",
    "        self.net = nn.Sequential(\n",
    "            nn.Linear(input_dim, hidden_dim),\n",
    "            nn.BatchNorm1d(hidden_dim),\n",
    "            nn.ReLU(),\n",
    "            nn.Linear(hidden_dim, hidden_dim),\n",
    "            nn.BatchNorm1d(hidden_dim),\n",
    "            nn.ReLU(),\n",
    "            nn.Linear(hidden_dim, 1),\n",
    "            nn.Sigmoid()\n",
    "        )\n",
    "    \n",
    "    def forward(self, x):\n",
    "        return self.net(x)\n",
    "\n",
    "# ====================== 训练器类 ======================\n",
    "class newDeepOptimalStoppingTrainer:\n",
    "    def __init__(self, generator, hidden_dim=40):\n",
    "        self.generator = generator\n",
    "        self.policies = self._init_policies(hidden_dim)\n",
    "        self.optimizers = [torch.optim.Adam(p.parameters(), lr=0.001) for p in self.policies]\n",
    "        \n",
    "    def _init_policies(self, hidden_dim):\n",
    "        input_dim = self.generator.d + 1\n",
    "        return [StoppingPolicy(input_dim, hidden_dim).to(device) for _ in range(self.generator.steps + 1)]\n",
    "    \n",
    "    def train(self, n_paths=8192, epochs=3000, batch_size=2048):\n",
    "        \"\"\"确定性训练过程\"\"\"\n",
    "        paths = self.generator.generate(n_paths)\n",
    "        payoffs = self._compute_payoffs(paths)\n",
    "        \n",
    "        for step in tqdm(reversed(range(self.generator.steps)), desc=\"Training\"):\n",
    "            current_payoff = payoffs[:, step]\n",
    "            continuation = self._compute_continuation(paths, payoffs, step)\n",
    "            \n",
    "            X = torch.cat([paths[:, step], current_payoff.unsqueeze(1)], dim=1)\n",
    "            y = (current_payoff >= continuation).float()\n",
    "            \n",
    "            self._train_single_step(step, X, y, epochs, batch_size)\n",
    "    \n",
    "    def _compute_continuation(self, paths, payoffs, step):\n",
    "        if step + 1 > self.generator.steps:\n",
    "            return torch.zeros(paths.size(0), device=device)\n",
    "        \n",
    "        sub_paths = paths[:, step+1:]\n",
    "        exercise_times = self._apply_policies(sub_paths, start_step=step+1)\n",
    "        exercise_times = torch.clamp(exercise_times, max=self.generator.steps)\n",
    "        return payoffs[torch.arange(len(exercise_times)), exercise_times.long()]\n",
    "    \n",
    "    def _apply_policies(self, paths, start_step):\n",
    "        \"\"\"确定性策略应用\"\"\"\n",
    "        batch_size, total_steps, _ = paths.size()\n",
    "        exercise_times = torch.full((batch_size,), self.generator.steps, device=device)\n",
    "        \n",
    "        for local_t in range(total_steps):\n",
    "            global_t = start_step + local_t + 1  # 确保行权时间≥start_step+1\n",
    "            if global_t > self.generator.steps:\n",
    "                break\n",
    "            \n",
    "            states = paths[:, local_t]\n",
    "            partial_paths = paths[:, :local_t+1]\n",
    "            current_payoff = self._compute_payoffs(partial_paths, start_step=start_step)[:, local_t]\n",
    "            \n",
    "            inputs = torch.cat([states, current_payoff.unsqueeze(1)], dim=1)\n",
    "            with torch.no_grad():  # 关闭梯度计算\n",
    "                stop_probs = self.policies[global_t](inputs).squeeze()\n",
    "            \n",
    "            stop_decisions = (stop_probs >= 0.5).float()\n",
    "            mask = (exercise_times == self.generator.steps) & (stop_decisions == 1)\n",
    "            exercise_times[mask] = global_t\n",
    "        \n",
    "        return exercise_times\n",
    "\n",
    "    def _train_single_step(self, step, X, y, epochs, batch_size):\n",
    "        \"\"\"确定性数据加载\"\"\"\n",
    "        if X.size(0) < 2:\n",
    "            raise ValueError(f\"训练数据不足: {X.size(0)} 样本\")\n",
    "        \n",
    "        # 固定数据加载的随机性\n",
    "        g = torch.Generator().manual_seed(42)\n",
    "        dataset = TensorDataset(X, y)\n",
    "        loader = DataLoader(dataset, batch_size=max(2, batch_size), shuffle=True, generator=g)\n",
    "        \n",
    "        for _ in range(epochs):\n",
    "            for batch_X, batch_y in loader:\n",
    "                self.optimizers[step].zero_grad()\n",
    "                pred = self.policies[step](batch_X).squeeze()\n",
    "                loss = nn.BCELoss()(pred, batch_y)\n",
    "                loss.backward()\n",
    "                self.optimizers[step].step()\n",
    "    \n",
    "    def _compute_payoffs(self, paths, start_step=0):\n",
    "        \"\"\"Bermudan Max-Call收益计算\"\"\"\n",
    "        max_values, _ = torch.max(paths, dim=2)\n",
    "        steps_remaining = paths.size(1) - 1\n",
    "        \n",
    "        time_points = torch.linspace(\n",
    "            start_step * self.generator.dt,\n",
    "            self.generator.dt * (start_step + steps_remaining),\n",
    "            steps_remaining + 1,\n",
    "            device=device\n",
    "        )\n",
    "        discounts = torch.exp(-self.generator.r * time_points)\n",
    "        return (max_values - 100).clamp(min=0) * discounts\n",
    "    \n",
    "    def compute_lower_bound(self, n_paths=4096000, conf_level=0.95):\n",
    "        \"\"\"确定性下界计算\"\"\"\n",
    "        test_paths = self.generator.generate(n_paths)\n",
    "        exercise_times = self._apply_policies(test_paths, 0)\n",
    "        \n",
    "        payoffs = torch.zeros(n_paths, device=device)\n",
    "        for i in range(n_paths):\n",
    "            payoffs[i] = self._compute_payoffs(test_paths[i:i+1])[0, int(exercise_times[i])]\n",
    "        \n",
    "        mean = payoffs.mean().item()\n",
    "        std = payoffs.std(unbiased=True).item()\n",
    "        z = norm.ppf((1 + conf_level)/2)\n",
    "        return {\n",
    "            'estimate': mean,\n",
    "            'lower': mean - z * std / np.sqrt(n_paths),\n",
    "            'upper': mean + z * std / np.sqrt(n_paths)\n",
    "        }\n",
    "    \n",
    "    def compute_upper_bound(self, n_paths=1024, J=16384, conf_level=0.95):\n",
    "        \"\"\"确定性上界计算\"\"\"\n",
    "        primary_paths = self.generator.generate(n_paths)\n",
    "        payoffs = self._compute_payoffs(primary_paths)\n",
    "        steps = self.generator.steps\n",
    "        \n",
    "        # 计算平均行权时间\n",
    "        exercise_times = torch.full((n_paths,), steps, device=device)\n",
    "        for t in range(steps):\n",
    "            states = primary_paths[:, t]\n",
    "            current_payoff = payoffs[:, t]\n",
    "            inputs = torch.cat([states, current_payoff.unsqueeze(1)], dim=1)\n",
    "            with torch.no_grad():\n",
    "                stop_probs = self.policies[t](inputs).squeeze()\n",
    "            stop_decisions = (stop_probs >= 0.5).float()\n",
    "            mask = (exercise_times == steps) & (stop_decisions == 1)\n",
    "            exercise_times[mask] = t\n",
    "        avg_time = exercise_times.float().mean().item()\n",
    "        \n",
    "        # 计算鞅过程\n",
    "        M = torch.zeros(n_paths, steps + 1, device=device)\n",
    "        E_H_prev = payoffs[:, 0].clone()\n",
    "        \n",
    "        for t in tqdm(range(1, steps + 1), desc=\"Building Martingale\"):\n",
    "            steps_remaining = steps - (t - 1)\n",
    "            cont_paths = torch.zeros(n_paths, J, steps_remaining + 1, self.generator.d, device=device)\n",
    "            \n",
    "            for i in range(n_paths):\n",
    "                current_state = primary_paths[i, t-1]\n",
    "                cont_paths[i] = self.generator.generate(J)[:, :steps_remaining + 1]  # 使用固定种子生成\n",
    "                ex_times = self._apply_policies(cont_paths[i], start_step=t-1)\n",
    "                cont_values = self._compute_payoffs(cont_paths[i], start_step=t-1)[\n",
    "                    torch.arange(J), ex_times.long()\n",
    "                ]\n",
    "                E_H_prev[i] = cont_values.mean()\n",
    "            \n",
    "            delta_M = torch.clamp(payoffs[:, t-1] - E_H_prev, min=0)\n",
    "            M[:, t] = M[:, t-1] + delta_M\n",
    "            E_H_prev = cont_values.mean(dim=0)\n",
    "        \n",
    "        adjusted = payoffs - M[:, :payoffs.size(1)]\n",
    "        max_values = adjusted.max(dim=1)[0]\n",
    "        \n",
    "        mean = max_values.mean().item()\n",
    "        std = max_values.std(unbiased=True).item()\n",
    "        z = norm.ppf((1 + conf_level)/2)\n",
    "        return {\n",
    "            'estimate': mean,\n",
    "            'lower': mean - z * std / np.sqrt(n_paths),\n",
    "            'upper': mean + z * std / np.sqrt(n_paths),\n",
    "            'avg_exercise_time': avg_time\n",
    "        }\n"
   ]
  },
  {
   "cell_type": "code",
   "execution_count": 8,
   "metadata": {},
   "outputs": [],
   "source": [
    "class BermudanMaxCallTrainer(DeepOptimalStoppingTrainer):\n",
    "    \"\"\"实现论文第4.1节的Bermudan Max-Call实验\"\"\"\n",
    "    def _compute_payoffs(self, paths, start_step=0):\n",
    "        # paths shape: (n_paths, L, d)，其中 L = 实际时间点数\n",
    "        max_values, _ = torch.max(paths, dim=2)  # (n_paths, L)\n",
    "        L = paths.size(1)  # 实际时间点数\n",
    "        # 用离散时间步构造时间向量：start_time, start_time+dt, …, start_time+(L-1)*dt\n",
    "        time_points = start_step * self.generator.dt + torch.arange(L, device=device, dtype=torch.float32) * self.generator.dt\n",
    "        discounts = torch.exp(-self.generator.r * time_points)\n",
    "        return (max_values - 100).clamp(min=0) * discounts  # K=100\n",
    "\n",
    "    '''\n",
    "    def _compute_payoffs(self, paths, start_step=0):\n",
    "        max_values, _ = torch.max(paths, dim=2)  # (n_paths, steps+1)\n",
    "        steps_remaining = paths.size(1) - 1  # 路径的局部时间步数\n",
    "        \n",
    "        start_time = start_step * self.generator.dt\n",
    "        time_points = torch.linspace(start_time, self.generator.T, steps_remaining + 1, device=device)\n",
    "        discounts = torch.exp(-self.generator.r * time_points)\n",
    "        return (max_values - 100).clamp(min=0) * discounts  # K=100\n",
    "'''\n",
    "    def _generate_continuations(self, current_state, step, J):\n",
    "        \"\"\"生成继续路径，覆盖从step到steps的所有时间点（含steps）\"\"\"\n",
    "        steps_remaining = self.generator.steps - step  # 剩余时间间隔数\n",
    "        # 需要生成steps_remaining+1个时间点（包含step到steps）\n",
    "        new_paths = torch.zeros(J, steps_remaining + 1, self.generator.d, device=device)\n",
    "        new_paths[:, 0] = current_state\n",
    "        \n",
    "        for t in range(1, steps_remaining + 1):  # 生成steps_remaining个增量步骤\n",
    "            Z = torch.randn(J, self.generator.d, device=device)\n",
    "            increments = self.generator.drift + (self.generator.L @ Z.T).T * np.sqrt(self.generator.dt)\n",
    "            new_paths[:, t] = new_paths[:, t-1] * torch.exp(increments)\n",
    "        return new_paths\n",
    "    \n",
    "    def _compute_continuation_payoffs(self, new_paths, exercise_times, current_step):\n",
    "        # new_paths shape: (batch_size, L, d)，其中 L = steps_remaining + 1\n",
    "        batch_size, L, _ = new_paths.shape\n",
    "        time_points = current_step * self.generator.dt + torch.arange(L, device=device, dtype=torch.float32) * self.generator.dt\n",
    "        # 排除当前时刻（index 0）\n",
    "        discounts = torch.exp(-self.generator.r * time_points)[1:]\n",
    "        \n",
    "        max_values, _ = torch.max(new_paths, dim=2)  # (batch_size, L)\n",
    "        payoffs = (max_values[:, 1:] - 100).clamp(min=0) * discounts  # 从 current_step+1 开始\n",
    "        \n",
    "        selected_payoffs = torch.zeros(batch_size, device=device)\n",
    "        for i in range(batch_size):\n",
    "            absolute_t = int(exercise_times[i].item())\n",
    "            if absolute_t == self.generator.steps:  # 到期时执行\n",
    "                selected_payoffs[i] = payoffs[i, -1]\n",
    "            else:\n",
    "                relative_t = absolute_t - (current_step + 1)\n",
    "                if relative_t < 0 or relative_t >= (L - 1):\n",
    "                    raise ValueError(f\"Invalid exercise time {absolute_t} at step {current_step}\")\n",
    "                selected_payoffs[i] = payoffs[i, relative_t]\n",
    "        \n",
    "        return selected_payoffs\n",
    "        '''\n",
    "    def _compute_continuation_payoffs(self, new_paths, exercise_times, current_step):\n",
    "        batch_size, steps_remaining_plus1, _ = new_paths.shape\n",
    "        steps_remaining = steps_remaining_plus1 - 1  # 剩余时间间隔数\n",
    "        \n",
    "        # 时间点从 current_step + 1 到 T\n",
    "        start_time = (current_step + 1) * self.generator.dt\n",
    "        time_points = torch.linspace(start_time, self.generator.T, steps_remaining_plus1, device=device)\n",
    "        discounts = torch.exp(-self.generator.r * (time_points - current_step * self.generator.dt))[1:]  # 排除当前时间步\n",
    "        \n",
    "        max_values, _ = torch.max(new_paths, dim=2)  # 形状 (batch_size, steps_remaining_plus1)\n",
    "        payoffs = (max_values[:, 1:] - 100).clamp(min=0) * discounts  # 从下一步开始\n",
    "        \n",
    "        selected_payoffs = torch.zeros(batch_size, device=device)\n",
    "        for i in range(batch_size):\n",
    "            absolute_t = int(exercise_times[i].item())\n",
    "            # 确保行权时间在合法范围内 [current_step + 1, steps]\n",
    "            if absolute_t < (current_step + 1) or absolute_t > self.generator.steps:\n",
    "                selected_payoffs[i] = payoffs[i, -1]  # 若越界，强制在到期日行权\n",
    "            else:\n",
    "                relative_t = absolute_t - (current_step + 1)\n",
    "                if relative_t < 0 or relative_t >= steps_remaining:\n",
    "                    selected_payoffs[i] = payoffs[i, -1]\n",
    "                else:\n",
    "                    selected_payoffs[i] = payoffs[i, relative_t]\n",
    "        \n",
    "        return selected_payoffs\n",
    "    \n",
    "    def _compute_continuation_payoffs(self, new_paths, exercise_times, current_step):\n",
    "        batch_size, steps_remaining_plus1, _ = new_paths.shape\n",
    "        steps_remaining = steps_remaining_plus1 - 1  # 时间间隔数\n",
    "        \n",
    "        # 时间点从current_step到current_step + steps_remaining（含两端）\n",
    "        time_points = torch.linspace(\n",
    "            current_step * self.generator.dt,\n",
    "            self.generator.T,\n",
    "            steps_remaining_plus1,\n",
    "            device=device\n",
    "        )\n",
    "        discounts = torch.exp(-self.generator.r * time_points)[1:]  # 排除current_step\n",
    "        \n",
    "        max_values, _ = torch.max(new_paths, dim=2)  # (batch_size, steps_remaining+1)\n",
    "        payoffs = (max_values[:, 1:] - 100).clamp(min=0) * discounts  # 从current_step+1开始\n",
    "        \n",
    "        selected_payoffs = torch.zeros(batch_size, device=device)\n",
    "        for i in range(batch_size):\n",
    "            absolute_t = int(exercise_times[i].item())\n",
    "            if absolute_t == self.generator.steps:  # 到期日执行\n",
    "                selected_payoffs[i] = payoffs[i, -1]\n",
    "            else:\n",
    "                # 转换为继续路径的局部索引（从current_step+1开始）\n",
    "                relative_t = absolute_t - (current_step + 1)\n",
    "                if relative_t < 0 or relative_t >= steps_remaining:\n",
    "                    raise ValueError(f\"Invalid exercise time {absolute_t} at step {current_step}\")\n",
    "                selected_payoffs[i] = payoffs[i, relative_t]\n",
    "        \n",
    "        return selected_payoffs\n",
    "    '''"
   ]
  },
  {
   "cell_type": "code",
   "execution_count": 9,
   "metadata": {},
   "outputs": [],
   "source": [
    "class MBRCGenerator(BlackScholesGenerator):\n",
    "    \"\"\"带股息支付和障碍监测的路径生成器\"\"\"\n",
    "    def __init__(self, d, steps, T, r, sigma, rho, div_dates, div_rates, barriers):\n",
    "        super().__init__(d, steps, T, r, sigma, rho, div=0)\n",
    "        self.div_dates = div_dates  # 股息支付时间索引列表\n",
    "        self.div_rates = div_rates  # 各资产股息率\n",
    "        self.barriers = barriers    # 障碍水平（百分比）\n",
    "\n",
    "    def generate(self, n_paths):\n",
    "        paths = super().generate(n_paths)\n",
    "        # 检查股息支付时间步是否在路径范围内\n",
    "        for t in self.div_dates:\n",
    "            if t >= self.steps:\n",
    "                raise ValueError(f\"Dividend date {t} exceeds path steps {self.steps}\")\n",
    "            paths[:, t+1:] *= (1 - torch.tensor(self.div_rates, device=device))\n",
    "        return paths\n",
    "\n",
    "    def track_barriers(self, paths):\n",
    "        \"\"\"监测障碍事件（适配局部路径的时间窗口）\"\"\"\n",
    "        barrier_hit = torch.zeros_like(paths[:, :, 0], dtype=torch.bool)\n",
    "        for t_local in range(paths.size(1)):  # 局部时间步\n",
    "            current_min = torch.min(paths[:, t_local, :], dim=1).values\n",
    "            barrier_hit[:, t_local] = (current_min <= self.barriers * 100)\n",
    "        return barrier_hit"
   ]
  },
  {
   "cell_type": "code",
   "execution_count": 10,
   "metadata": {},
   "outputs": [],
   "source": [
    "class CallableMBRCTrainer(DeepOptimalStoppingTrainer):\n",
    "    \"\"\"MBRC训练器 最小化发行人成本\"\"\"\n",
    "    def __init__(self, generator, coupon_rate, nominal=100):\n",
    "        super().__init__(generator)\n",
    "        self.coupon = coupon_rate * generator.T / generator.steps\n",
    "        self.nominal = nominal\n",
    "\n",
    "    def _compute_payoffs(self, paths, start_step=0):\n",
    "        barrier_indicator = self.generator.track_barriers(paths)\n",
    "        n_paths, total_time_steps, _ = paths.shape\n",
    "        \n",
    "        start_time = start_step * self.generator.dt\n",
    "        time_points = torch.linspace(\n",
    "            start_time,\n",
    "            self.generator.T,\n",
    "            total_time_steps,\n",
    "            device=device\n",
    "        )\n",
    "        discounts = torch.exp(-self.generator.r * time_points)\n",
    "        \n",
    "        payoffs = torch.zeros(n_paths, total_time_steps, device=device)\n",
    "        \n",
    "        for t in range(total_time_steps):\n",
    "            global_t = start_step + t\n",
    "            global_t = min(global_t, self.generator.steps)  # 确保不越界\n",
    "            \n",
    "            \n",
    "            coupon_part = self.coupon * (global_t + 1)\n",
    "            \n",
    "            if global_t == self.generator.steps:\n",
    "                final_prices = paths[:, t, :]\n",
    "                min_price = torch.min(final_prices, dim=1).values\n",
    "                # 使用 torch.minimum 替换 torch.min\n",
    "                payoff = torch.where(\n",
    "                    barrier_indicator[:, global_t],\n",
    "                    torch.minimum(min_price, torch.tensor(self.nominal, device=device)),\n",
    "                    self.nominal\n",
    "                )\n",
    "            else:\n",
    "                payoff = self.nominal\n",
    "            \n",
    "            payoffs[:, t] = (coupon_part + payoff) * discounts[t]\n",
    "        \n",
    "        return payoffs\n",
    "    \n",
    "    def _generate_continuations(self, current_state, step, J):\n",
    "        \"\"\"生成考虑股息的继续路径\"\"\"\n",
    "        new_paths = torch.zeros(J, self.generator.steps-step, self.generator.d, device=device)\n",
    "        new_paths[:, 0] = current_state\n",
    "        \n",
    "        for t in range(1, self.generator.steps-step):\n",
    "            Z = torch.randn(J, self.generator.d, device=device)\n",
    "            increments = self.generator.drift + (self.generator.L @ Z.T).T * np.sqrt(self.generator.dt)\n",
    "            new_paths[:, t] = new_paths[:, t-1] * torch.exp(increments)\n",
    "            \n",
    "            # 应用股息支付\n",
    "            if (step + t) in self.generator.div_dates:\n",
    "                new_paths[:, t:] *= (1 - torch.tensor(self.generator.div_rates, device=device))\n",
    "        \n",
    "        return new_paths\n",
    "\n",
    "    def _compute_continuation_payoffs(self, new_paths, exercise_times, current_step):\n",
    "        barrier_indicator = self.generator.track_barriers(new_paths)\n",
    "        batch_size, steps_remaining, _ = new_paths.shape\n",
    "        \n",
    "        start_time = current_step * self.generator.dt\n",
    "        time_points = torch.linspace(\n",
    "            start_time,\n",
    "            self.generator.T,\n",
    "            steps_remaining + 1,\n",
    "            device=device\n",
    "        )\n",
    "        discounts = torch.exp(-self.generator.r * time_points)[1:]\n",
    "        \n",
    "        payoffs = torch.zeros(batch_size, device=device)\n",
    "        for i in range(batch_size):\n",
    "            t = int(exercise_times[i].item())\n",
    "            relative_t = t - current_step - 1\n",
    "            \n",
    "            if relative_t < 0 or relative_t >= steps_remaining:\n",
    "                raise ValueError(f\"Invalid exercise time {t} at step {current_step}\")\n",
    "            \n",
    "            # 全局时间步截断\n",
    "            global_t = min(current_step + relative_t + 1, self.generator.steps)\n",
    "            \n",
    "            coupon_part = self.coupon * (global_t + 1)\n",
    "            \n",
    "            if global_t == self.generator.steps:\n",
    "                final_prices = new_paths[i, relative_t, :]\n",
    "                min_price = torch.min(final_prices)\n",
    "                payoff = torch.where(\n",
    "                    barrier_indicator[i, relative_t],  # 使用局部索引\n",
    "                    torch.minimum(min_price, torch.tensor(self.nominal, device=device)),\n",
    "                    self.nominal\n",
    "                )\n",
    "            else:\n",
    "                payoff = self.nominal\n",
    "            \n",
    "            discounted_payoff = (coupon_part + payoff) * discounts[relative_t]\n",
    "            payoffs[i] = discounted_payoff\n",
    "        \n",
    "        return payoffs"
   ]
  },
  {
   "cell_type": "code",
   "execution_count": 11,
   "metadata": {},
   "outputs": [],
   "source": [
    "class FBMGenerator(PathGenerator):\n",
    "    \"\"\"分数布朗运动生成器（带状态嵌入）\"\"\"\n",
    "    def __init__(self, H, steps, T):\n",
    "        super().__init__(steps+1, steps, T)  # 状态维度=时间步数\n",
    "        self.H = H\n",
    "        self._build_cov_matrix()\n",
    "    \n",
    "    def _build_cov_matrix(self):\n",
    "        t = np.linspace(0, self.T, self.steps+1)\n",
    "        cov = 0.5 * (\n",
    "            t[:, None]**(2 * self.H) \n",
    "            + t[None, :]**(2 * self.H) \n",
    "            - np.abs(t[:, None] - t[None, :])**(2 * self.H)\n",
    "        )\n",
    "        np.fill_diagonal(cov, cov.diagonal() + 1e-6)\n",
    "        \n",
    "        # 转换为PyTorch张量并保存\n",
    "        self.cov_matrix = torch.tensor(\n",
    "            cov.astype(np.float32),  # 先转换为float32的NumPy数组\n",
    "            device=device,\n",
    "            dtype=torch.float32       # 再转为PyTorch张量\n",
    "        )\n",
    "        \n",
    "        # Cholesky分解\n",
    "        self.L = torch.linalg.cholesky(self.cov_matrix)\n",
    "        \n",
    "    def generate(self, n_paths):\n",
    "        paths = torch.zeros(n_paths, self.steps+1, device=device, dtype=torch.float32)\n",
    "        for i in range(n_paths):\n",
    "            Z = torch.randn(self.steps+1, device=device, dtype=torch.float32)\n",
    "            paths[i] = self.L @ Z\n",
    "        \n",
    "        # 关键：生成三维嵌入路径，形状 (n_paths, steps+1, steps+1)\n",
    "        embedded = torch.zeros(n_paths, self.steps+1, self.steps+1, device=device)\n",
    "        for t in range(self.steps+1):\n",
    "            embedded[:, t, :t+1] = paths[:, :t+1]  # 填充完整历史状态\n",
    "        return embedded\n",
    "\n",
    "class FBMTrainer(DeepOptimalStoppingTrainer):\n",
    "    \"\"\"分数布朗运动训练器\"\"\"\n",
    "    def __init__(self, H, steps, T, hidden_dim=140):\n",
    "        generator = FBMGenerator(H, steps, T)\n",
    "        super().__init__(generator)\n",
    "        input_dim = (steps + 1) + 1  # 输入维度 = 状态(steps+1) + 收益(1)\n",
    "        self.policies = [\n",
    "            StoppingPolicy(input_dim, hidden_dim).to(device)\n",
    "            for _ in range(steps + 1)\n",
    "        ]\n",
    "        self.optimizers = [torch.optim.Adam(p.parameters(), lr=0.001) for p in self.policies]\n",
    "\n",
    "    def _prepare_training_data(self, paths, current_payoff, step):\n",
    "        # paths形状应为 (n_paths, steps+1, steps+1)\n",
    "        current_state = paths[:, step, :]  # 提取当前时间步的所有历史特征，形状 (n_paths, steps+1)\n",
    "        X = torch.cat([current_state, current_payoff.unsqueeze(1)], dim=1)  # 形状 (n_paths, steps+2)\n",
    "        continuation = self._nested_mc(paths, step)\n",
    "        y = (current_payoff >= continuation).float()\n",
    "        return X, y\n",
    "\n",
    "    def _apply_policies(self, paths, start_step):\n",
    "        exercise_times = torch.full((paths.size(0),), self.generator.steps, device=device)\n",
    "        for t in range(start_step + 1, self.generator.steps + 1):\n",
    "            # 检查路径是否包含足够的时间步\n",
    "            if t >= paths.size(1):\n",
    "                break  # 防止越界\n",
    "            \n",
    "            states = paths[:, t, :]\n",
    "            payoffs = self._compute_payoffs(paths[:, :t+1, :], start_step=start_step)[:, t - start_step]\n",
    "            inputs = torch.cat([states, payoffs.unsqueeze(1)], dim=1)\n",
    "            stop_probs = self.policies[t](inputs).squeeze()\n",
    "            stop_decisions = (stop_probs >= 0.5).float()\n",
    "            \n",
    "            mask = (exercise_times == self.generator.steps) & (stop_decisions == 1)\n",
    "            exercise_times[mask] = t\n",
    "        return exercise_times\n",
    "\n",
    "    def _compute_payoffs(self, paths, start_step=0):\n",
    "        \"\"\"从三维路径中提取FBM值\"\"\"\n",
    "        # paths形状应为 (n_paths, steps_remaining+1, features)\n",
    "        n_paths, steps_remaining_plus_1, features = paths.shape\n",
    "        payoffs = torch.zeros(n_paths, steps_remaining_plus_1, device=device)\n",
    "        for t in range(steps_remaining_plus_1):\n",
    "            payoffs[:, t] = paths[:, t, t]  # 提取对角线特征（假设特征在最后一维）\n",
    "        return payoffs\n",
    "\n",
    "    def _generate_continuations(self, current_state, step, J):\n",
    "        \"\"\"生成条件路径（严格匹配步数）\"\"\"\n",
    "        t = step  # 当前时间步（从0开始）\n",
    "        total_steps = self.generator.steps\n",
    "        \n",
    "        # 需要生成的未来步数\n",
    "        future_steps = total_steps - t  # 从 t+1 到 total_steps，共 future_steps 步\n",
    "        \n",
    "        # 获取协方差矩阵\n",
    "        cov = self.generator.cov_matrix  # 形状 (total_steps+1, total_steps+1)\n",
    "        \n",
    "        # 分割协方差矩阵\n",
    "        Sigma11 = cov[:t+1, :t+1]          # 历史路径协方差 (t+1, t+1)\n",
    "        Sigma12 = cov[:t+1, t+1:t+1+future_steps]  # 历史与未来的协方差 (t+1, future_steps)\n",
    "        Sigma22 = cov[t+1:t+1+future_steps, t+1:t+1+future_steps]  # 未来路径协方差 (future_steps, future_steps)\n",
    "        \n",
    "        # 计算条件协方差\n",
    "        Sigma22_1 = Sigma22 - Sigma12.T @ torch.linalg.inv(Sigma11) @ Sigma12\n",
    "        L22 = torch.linalg.cholesky(Sigma22_1)\n",
    "        \n",
    "        # 生成随机噪声\n",
    "        Z = torch.randn(J, future_steps, device=device)\n",
    "        \n",
    "        # 计算均值项和随机项\n",
    "        current_state_truncated = current_state[:t+1]  # 截取到当前时间步（包含t）\n",
    "        mean_part = current_state_truncated @ torch.linalg.pinv(Sigma11) @ Sigma12  # 形状 (1, future_steps)\n",
    "        random_part = (L22 @ Z.T).T  # 形状 (J, future_steps)\n",
    "        \n",
    "        # 合并均值和随机部分\n",
    "        continuation_values = mean_part + random_part  # 形状 (J, future_steps)\n",
    "        \n",
    "        # 初始化三维路径张量 (J, total_steps+1, total_steps+1)\n",
    "        cond_paths = torch.zeros(J, total_steps+1, total_steps+1, device=device)\n",
    "        \n",
    "        # 填充历史路径（第一个特征维度）\n",
    "        cond_paths[:, :t+1, 0] = current_state_truncated.expand(J, -1)\n",
    "        \n",
    "        # 填充未来路径到对应特征位置（从 t+1 开始）\n",
    "        cond_paths[:, t+1:t+1+future_steps, t+1:t+1+future_steps] = continuation_values.unsqueeze(-1)\n",
    "        \n",
    "        return cond_paths\n",
    "    \n",
    "    def _compute_continuation_payoffs(self, new_paths, exercise_times, current_step):\n",
    "        \"\"\"计算继续路径的收益 直接提取FBM值 \"\"\"\n",
    "        payoffs = torch.zeros(new_paths.size(0), device=device)\n",
    "        for i in range(new_paths.size(0)):\n",
    "            t = int(exercise_times[i].item())\n",
    "            # 转换为继续路径的局部索引\n",
    "            relative_t = t - current_step - 1\n",
    "            if relative_t < 0 or relative_t >= new_paths.size(1):\n",
    "                raise ValueError(f\"Invalid exercise time {t} at step {current_step}\")\n",
    "            payoffs[i] = new_paths[i, relative_t, relative_t]  # 提取局部路径的FBM值\n",
    "        return payoffs\n",
    "\n",
    "    def compute_upper_bound(self, n_paths=1024, J=16384, conf_level=0.95):\n",
    "        \"\"\"计算上界（修正继续路径步数）\"\"\"\n",
    "        # 生成主路径\n",
    "        primary_paths = self.generator.generate(n_paths)\n",
    "        payoffs = self._compute_payoffs(primary_paths)\n",
    "        \n",
    "        # 初始化Martingale过程\n",
    "        M = torch.zeros(n_paths, self.generator.steps+1, device=device)\n",
    "        \n",
    "        # 计算Martingale增量\n",
    "        for t in tqdm(range(self.generator.steps), desc=\"计算上界(Martingale)\"):\n",
    "            # 生成继续路径的步数应为 (steps - t)\n",
    "            steps_remaining = self.generator.steps - t\n",
    "            \n",
    "            # 初始化继续路径容器，形状 (n_paths, J, steps_remaining, features)\n",
    "            cont_paths = torch.zeros(\n",
    "                n_paths, J, steps_remaining, self.generator.d,  # 修正步数为 steps_remaining\n",
    "                device=device\n",
    "            )\n",
    "            \n",
    "            # 生成继续路径\n",
    "            for i in range(n_paths):\n",
    "                # 生成从 t 开始的继续路径（步数为 steps_remaining）\n",
    "                full_cont_path = self._generate_continuations(primary_paths[i, t], t, J)\n",
    "                # 截取从 t+1 到 steps 的路径（共 steps_remaining 步）\n",
    "                cont_paths[i] = full_cont_path[:, t+1:t+1+steps_remaining, :]\n",
    "            \n",
    "            # 计算继续价值\n",
    "            cont_values = torch.zeros(n_paths, device=device)\n",
    "            for i in range(n_paths):\n",
    "                ex_times = self._apply_policies(cont_paths[i], t)\n",
    "                cont_values[i] = self._compute_continuation_payoffs(cont_paths[i], ex_times, t).mean()\n",
    "            \n",
    "            # 更新Martingale\n",
    "            current_payoff = payoffs[:, t]\n",
    "            delta_M = (current_payoff >= cont_values).float() * (current_payoff - cont_values)\n",
    "            M[:, t+1] = M[:, t] + delta_M\n",
    "        \n",
    "        # 计算调整后的收益\n",
    "        adjusted = payoffs - M\n",
    "        max_values, _ = torch.max(adjusted, dim=1)\n",
    "        \n",
    "        # 统计量和置信区间计算（保持不变）\n",
    "        mean = max_values.mean().item()\n",
    "        std = max_values.std(unbiased=True).item()\n",
    "        z = 1.96 if conf_level == 0.95 else norm.ppf((1 + conf_level)/2)\n",
    "        ci_half = z * std / np.sqrt(n_paths)\n",
    "        \n",
    "        return {\n",
    "            'estimate': mean,\n",
    "            'lower': mean - ci_half,\n",
    "            'upper': mean + ci_half,\n",
    "            'std': std\n",
    "        }"
   ]
  },
  {
   "cell_type": "code",
   "execution_count": 12,
   "metadata": {},
   "outputs": [],
   "source": [
    "class FBMTrainerWithCustomPrepare(DeepOptimalStoppingTrainer):\n",
    "    \"\"\"FBM专用训练器, 完全覆盖所有必要方法\"\"\"\n",
    "    def __init__(self, H, steps, T, hidden_dim=140):\n",
    "        generator = FBMGenerator(H, steps, T)\n",
    "        super().__init__(generator)\n",
    "        input_dim = (steps + 1) + 1  # 输入维度 = 状态(steps+1) + 收益(1)\n",
    "        self.policies = [\n",
    "            StoppingPolicy(input_dim, hidden_dim).to(device)\n",
    "            for _ in range(steps + 1)\n",
    "        ]\n",
    "        self.optimizers = [torch.optim.Adam(p.parameters(), lr=0.001) for p in self.policies]\n",
    "\n",
    "    # -------------------- 核心方法覆盖 --------------------\n",
    "    def _prepare_training_data(self, paths, current_payoff, step):\n",
    "        \"\"\"FBM专用数据准备（保持其他模型不变）\"\"\"\n",
    "        current_state = paths[:, step, :]  # 从三维嵌入路径提取状态\n",
    "        X = torch.cat([current_state, current_payoff.unsqueeze(1)], dim=1)\n",
    "        continuation = self._nested_mc(paths, step)\n",
    "        y = (current_payoff >= continuation).float()\n",
    "        return X, y\n",
    "\n",
    "    def _compute_payoffs(self, paths, start_step=0):\n",
    "        \"\"\"从三维路径中提取FBM值\"\"\"\n",
    "        n_paths, steps_remaining, _ = paths.shape\n",
    "        payoffs = torch.zeros(n_paths, steps_remaining, device=device)\n",
    "        for t in range(steps_remaining):\n",
    "            payoffs[:, t] = paths[:, t, t]  # 关键：提取对角线值\n",
    "        return payoffs\n",
    "\n",
    "    def _generate_continuations(self, current_state, step, J):\n",
    "        \"\"\"生成条件路径（严格三维结构）\"\"\"\n",
    "        t = step + 1\n",
    "        cond_paths = torch.zeros(J, self.generator.steps+1, self.generator.steps+1, device=device)\n",
    "        cond_paths[:, :t, :t] = current_state.expand(J, -1, -1)  # 复制历史路径\n",
    "        \n",
    "        cov = self.generator.cov_matrix\n",
    "        Sigma11 = cov[:t, :t]\n",
    "        Sigma12 = cov[:t, t:]\n",
    "        Sigma22 = cov[t:, t:]\n",
    "        Sigma22_1 = Sigma22 - Sigma12.T @ torch.linalg.inv(Sigma11) @ Sigma12\n",
    "        L22 = torch.linalg.cholesky(Sigma22_1)\n",
    "        \n",
    "        Z = torch.randn(J, self.generator.steps+1 - t, device=device)\n",
    "        cond_paths[:, t:, t:] = (current_state[:t] @ torch.linalg.pinv(Sigma11) @ Sigma12) + (L22 @ Z.T).T\n",
    "        return cond_paths\n",
    "\n",
    "    def _compute_continuation_payoffs(self, new_paths, exercise_times, current_step):\n",
    "        \"\"\"从继续路径中提取收益\"\"\"\n",
    "        payoffs = torch.zeros(new_paths.size(0), device=device)\n",
    "        for i in range(new_paths.size(0)):\n",
    "            t = int(exercise_times[i].item())\n",
    "            relative_t = t - current_step - 1\n",
    "            if 0 <= relative_t < new_paths.size(1):\n",
    "                payoffs[i] = new_paths[i, relative_t, relative_t]\n",
    "            else:\n",
    "                payoffs[i] = 0.0  # 无效时间步处理\n",
    "        return payoffs"
   ]
  },
  {
   "cell_type": "code",
   "execution_count": 13,
   "metadata": {},
   "outputs": [],
   "source": [
    "# 实验执行代码\n",
    "def run_Bermudan_experiment():\n",
    "    \"\"\"Bermudan实验 对应论文表1/2 \"\"\"\n",
    "    params = {\n",
    "        \"d\": 3,\n",
    "        \"steps\": 9,\n",
    "        \"T\": 3.0,\n",
    "        \"r\": 0.05,\n",
    "        \"sigma\": 0.2,\n",
    "        \"rho\": 0.0,\n",
    "        \"div\": 0.1\n",
    "    }\n",
    "    \n",
    "    # 初始化生成器和训练器\n",
    "    bs_gen = BlackScholesGenerator(**params)\n",
    "    print(\"BlackScholesGenerator steps:\", bs_gen.steps)\n",
    "    trainer = BermudanMaxCallTrainer(bs_gen, hidden_dim=40+params[\"d\"])\n",
    "    \n",
    "    # 训练（3000步，每批8192条路径）\n",
    "    print(\"开始训练...\")\n",
    "    trainer.train(n_paths=4000, epochs=1500+params[\"d\"],batch_size=2048)#8192,3000\n",
    "    \n",
    "    # 计算上下界\n",
    "    print(\"计算下界...\")\n",
    "    lb_result = trainer.compute_lower_bound(n_paths=100000)#4096000\n",
    "    print(f\"Lower bound: {lb_result['estimate']:.3f} ({lb_result['lower']:.3f}, {lb_result['upper']:.3f})\")\n",
    "    print(\"计算上界...\")\n",
    "    ub_result = trainer.compute_upper_bound(n_paths=1024, J=5000) #1024，16384\n",
    "    \n",
    "    # 输出结果\n",
    "    print(f\"\\nBermudan实验结果:\")\n",
    "    print(f\"Lower bound: {lb_result['estimate']:.3f} ({lb_result['lower']:.3f}, {lb_result['upper']:.3f})\")\n",
    "    print(f\"Upper bound: {ub_result['estimate']:.3f} ({ub_result['lower']:.3f}, {ub_result['upper']:.3f})\")\n",
    "    print(f\"95% Confidence Interval: [{lb_result['lower']:.3f}, {ub_result['upper']:.3f}]\")\n",
    "    print(f\"Point Estimate: {(lb_result['estimate'] + ub_result['estimate'])/2:.3f}\")\n",
    "\n",
    "\n",
    "def run_mbrc_experiment():\n",
    "    \"\"\"Callable MBRC实验 对应论文表3 \"\"\"\n",
    "    params = {\n",
    "        \"d\": 5,\n",
    "        \"steps\": 252,       # 252，1年，每日监测\n",
    "        \"T\": 1.0,\n",
    "        \"r\": 0.00,\n",
    "        \"sigma\": 0.2,\n",
    "        \"rho\": 0.0,\n",
    "        \"div_dates\": [126],  # 半年支付股息，126\n",
    "        \"div_rates\": [0.05]*5,\n",
    "        \"barriers\": 0.7      # 70%障碍\n",
    "    }\n",
    "    \n",
    "    mbrc_gen = MBRCGenerator(**params)\n",
    "    trainer = CallableMBRCTrainer(mbrc_gen, coupon_rate=0.07, nominal=100,hidden_dim=40+params[\"d\"])\n",
    "    \n",
    "    print(\"Training Callable MBRC policies...\")\n",
    "    trainer.train(n_paths=8192, epochs=3000+params[\"d\"])#8192,3000\n",
    "    \n",
    "    # 计算上下界\n",
    "    print(\"计算下界...\")\n",
    "    lb_result = trainer.compute_lower_bound(n_paths=4096000)#4096000\n",
    "    print(f\"Lower bound: {lb_result['estimate']:.3f} ({lb_result['lower']:.3f}, {lb_result['upper']:.3f})\")\n",
    "    print(\"计算上界...\")\n",
    "    ub_result = trainer.compute_upper_bound(n_paths=1024, J=10000)#1024，16384\n",
    "    \n",
    "    \n",
    "    # 输出结果\n",
    "    print(f\"\\nMBRC实验结果:\")\n",
    "    print(f\"Lower bound: {lb_result['estimate']:.3f} ({lb_result['lower']:.3f}, {lb_result['upper']:.3f})\")\n",
    "    print(f\"Upper bound: {ub_result['estimate']:.3f} ({ub_result['lower']:.3f}, {ub_result['upper']:.3f})\")\n",
    "    print(f\"95% Confidence Interval: [{lb_result['upper']:.3f}, {ub_result['lower']:.3f}]\")\n",
    "    print(f\"Point Estimate: {(lb_result['estimate'] + ub_result['estimate'])/2:.3f}\")\n",
    "\n",
    "\n",
    "def run_fbm_experiment(H=0.7):\n",
    "    \"\"\"分数布朗运动实验 对应论文表4 \"\"\"\n",
    "    assert 0 < H < 1, \"Hurst指数必须在 (0, 1) 之间\"\n",
    "    params = {\n",
    "        \"H\": H,\n",
    "        \"steps\": 100,#100\n",
    "        \"T\": 1.0\n",
    "    }\n",
    "    \n",
    "    fbm_gen = FBMGenerator(**params)\n",
    "    trainer = FBMTrainer(**params)\n",
    "    \n",
    "    print(f\"Training FBM (H={H}) policies...\")\n",
    "    trainer.train(n_paths=8192, epochs=3000)#6000\n",
    "    \n",
    "    print(\"计算下界...\")\n",
    "    lb_result = trainer.compute_lower_bound(n_paths=4096000)\n",
    "    print(\"计算上界...\")\n",
    "    ub_result = trainer.compute_upper_bound(n_paths=1024, J=16384 if H != 0.5 else 32768)#16384，32768\n",
    "    \n",
    "    print(f\"\\nFBM最优停止结果(H={H}):\")\n",
    "    print(f\"Lower bound: {lb_result['estimate']:.3f} ({lb_result['lower']:.3f}, {lb_result['upper']:.3f})\")\n",
    "    print(f\"Upper bound: {ub_result['estimate']:.3f} ({ub_result['lower']:.3f}, {ub_result['upper']:.3f})\")\n",
    "    print(f\"95% Confidence Interval: [{lb_result['upper']:.3f}, {ub_result['lower']:.3f}]\")\n",
    "    print(f\"Point Estimate: {(lb_result['estimate'] + ub_result['estimate'])/2:.3f}\")"
   ]
  },
  {
   "cell_type": "code",
   "execution_count": 14,
   "metadata": {},
   "outputs": [
    {
     "name": "stdout",
     "output_type": "stream",
     "text": [
      "========= Bermudan实验 =========\n",
      "BlackScholesGenerator steps: 9\n",
      "开始训练...\n"
     ]
    },
    {
     "data": {
      "application/vnd.jupyter.widget-view+json": {
       "model_id": "780b66d55db744848c1a76fd1ae80967",
       "version_major": 2,
       "version_minor": 0
      },
      "text/plain": [
       "生成Black-Scholes路径:   0%|          | 0/9 [00:00<?, ?it/s]"
      ]
     },
     "metadata": {},
     "output_type": "display_data"
    },
    {
     "data": {
      "application/vnd.jupyter.widget-view+json": {
       "model_id": "9b3cb302c13b4b008c751589b2d2a0cb",
       "version_major": 2,
       "version_minor": 0
      },
      "text/plain": [
       "Training steps: 0it [00:00, ?it/s]"
      ]
     },
     "metadata": {},
     "output_type": "display_data"
    },
    {
     "data": {
      "application/vnd.jupyter.widget-view+json": {
       "model_id": "2c4a162c06d348fb82089e3151c9f454",
       "version_major": 2,
       "version_minor": 0
      },
      "text/plain": [
       "嵌套MC(t=8):   0%|          | 0/4000 [00:00<?, ?it/s]"
      ]
     },
     "metadata": {},
     "output_type": "display_data"
    },
    {
     "data": {
      "application/vnd.jupyter.widget-view+json": {
       "model_id": "86c4c8b07d024e099c20b1a810d5cc2c",
       "version_major": 2,
       "version_minor": 0
      },
      "text/plain": [
       "Training step 8:   0%|          | 0/1503 [00:00<?, ?it/s]"
      ]
     },
     "metadata": {},
     "output_type": "display_data"
    },
    {
     "data": {
      "application/vnd.jupyter.widget-view+json": {
       "model_id": "be5ccd7bdcf74deab5f7ddf6b5b4282c",
       "version_major": 2,
       "version_minor": 0
      },
      "text/plain": [
       "嵌套MC(t=7):   0%|          | 0/4000 [00:00<?, ?it/s]"
      ]
     },
     "metadata": {},
     "output_type": "display_data"
    },
    {
     "data": {
      "application/vnd.jupyter.widget-view+json": {
       "model_id": "3f69aac4583449a2b0de64c1e98a0b68",
       "version_major": 2,
       "version_minor": 0
      },
      "text/plain": [
       "Training step 7:   0%|          | 0/1503 [00:00<?, ?it/s]"
      ]
     },
     "metadata": {},
     "output_type": "display_data"
    },
    {
     "data": {
      "application/vnd.jupyter.widget-view+json": {
       "model_id": "a3aa73d4d4ed4abdabc40b4196bd025f",
       "version_major": 2,
       "version_minor": 0
      },
      "text/plain": [
       "嵌套MC(t=6):   0%|          | 0/4000 [00:00<?, ?it/s]"
      ]
     },
     "metadata": {},
     "output_type": "display_data"
    },
    {
     "data": {
      "application/vnd.jupyter.widget-view+json": {
       "model_id": "f3089e83ab354faca1ae4e036b7164e7",
       "version_major": 2,
       "version_minor": 0
      },
      "text/plain": [
       "Training step 6:   0%|          | 0/1503 [00:00<?, ?it/s]"
      ]
     },
     "metadata": {},
     "output_type": "display_data"
    },
    {
     "data": {
      "application/vnd.jupyter.widget-view+json": {
       "model_id": "7eac4e11aa364bb8861a29492559aa7d",
       "version_major": 2,
       "version_minor": 0
      },
      "text/plain": [
       "嵌套MC(t=5):   0%|          | 0/4000 [00:00<?, ?it/s]"
      ]
     },
     "metadata": {},
     "output_type": "display_data"
    },
    {
     "data": {
      "application/vnd.jupyter.widget-view+json": {
       "model_id": "8e3fbfb97e9d44fbad49e0a1b265addc",
       "version_major": 2,
       "version_minor": 0
      },
      "text/plain": [
       "Training step 5:   0%|          | 0/1503 [00:00<?, ?it/s]"
      ]
     },
     "metadata": {},
     "output_type": "display_data"
    },
    {
     "data": {
      "application/vnd.jupyter.widget-view+json": {
       "model_id": "2bb083a89fdd49f7919a058da8c678c2",
       "version_major": 2,
       "version_minor": 0
      },
      "text/plain": [
       "嵌套MC(t=4):   0%|          | 0/4000 [00:00<?, ?it/s]"
      ]
     },
     "metadata": {},
     "output_type": "display_data"
    },
    {
     "data": {
      "application/vnd.jupyter.widget-view+json": {
       "model_id": "f317dc740aa04cae9f871517ac9e8328",
       "version_major": 2,
       "version_minor": 0
      },
      "text/plain": [
       "Training step 4:   0%|          | 0/1503 [00:00<?, ?it/s]"
      ]
     },
     "metadata": {},
     "output_type": "display_data"
    },
    {
     "data": {
      "application/vnd.jupyter.widget-view+json": {
       "model_id": "8336ac4774cf4c12b24e1d8d9b1624ba",
       "version_major": 2,
       "version_minor": 0
      },
      "text/plain": [
       "嵌套MC(t=3):   0%|          | 0/4000 [00:00<?, ?it/s]"
      ]
     },
     "metadata": {},
     "output_type": "display_data"
    },
    {
     "data": {
      "application/vnd.jupyter.widget-view+json": {
       "model_id": "5ae802dd7ff34288b6271a292ee27457",
       "version_major": 2,
       "version_minor": 0
      },
      "text/plain": [
       "Training step 3:   0%|          | 0/1503 [00:00<?, ?it/s]"
      ]
     },
     "metadata": {},
     "output_type": "display_data"
    },
    {
     "data": {
      "application/vnd.jupyter.widget-view+json": {
       "model_id": "4c637555eb2a49d6aaeb0c01099c4cea",
       "version_major": 2,
       "version_minor": 0
      },
      "text/plain": [
       "嵌套MC(t=2):   0%|          | 0/4000 [00:00<?, ?it/s]"
      ]
     },
     "metadata": {},
     "output_type": "display_data"
    },
    {
     "data": {
      "application/vnd.jupyter.widget-view+json": {
       "model_id": "32e22232072c4dda850356d9aeda302b",
       "version_major": 2,
       "version_minor": 0
      },
      "text/plain": [
       "Training step 2:   0%|          | 0/1503 [00:00<?, ?it/s]"
      ]
     },
     "metadata": {},
     "output_type": "display_data"
    },
    {
     "data": {
      "application/vnd.jupyter.widget-view+json": {
       "model_id": "5e81f1e9c86c4faf9a530a4917bc45bf",
       "version_major": 2,
       "version_minor": 0
      },
      "text/plain": [
       "嵌套MC(t=1):   0%|          | 0/4000 [00:00<?, ?it/s]"
      ]
     },
     "metadata": {},
     "output_type": "display_data"
    },
    {
     "data": {
      "application/vnd.jupyter.widget-view+json": {
       "model_id": "ff21132e89aa43b0920db5697bb0e3f2",
       "version_major": 2,
       "version_minor": 0
      },
      "text/plain": [
       "Training step 1:   0%|          | 0/1503 [00:00<?, ?it/s]"
      ]
     },
     "metadata": {},
     "output_type": "display_data"
    },
    {
     "data": {
      "application/vnd.jupyter.widget-view+json": {
       "model_id": "84897c2605024318b7beaa30de1be874",
       "version_major": 2,
       "version_minor": 0
      },
      "text/plain": [
       "嵌套MC(t=0):   0%|          | 0/4000 [00:00<?, ?it/s]"
      ]
     },
     "metadata": {},
     "output_type": "display_data"
    },
    {
     "data": {
      "application/vnd.jupyter.widget-view+json": {
       "model_id": "e1c5ec12b5824952ad2322a2ffc4b74c",
       "version_major": 2,
       "version_minor": 0
      },
      "text/plain": [
       "Training step 0:   0%|          | 0/1503 [00:00<?, ?it/s]"
      ]
     },
     "metadata": {},
     "output_type": "display_data"
    },
    {
     "name": "stdout",
     "output_type": "stream",
     "text": [
      "计算下界...\n"
     ]
    },
    {
     "data": {
      "application/vnd.jupyter.widget-view+json": {
       "model_id": "a827231231ac4a5183fad4d51b37a4dc",
       "version_major": 2,
       "version_minor": 0
      },
      "text/plain": [
       "生成Black-Scholes路径:   0%|          | 0/9 [00:00<?, ?it/s]"
      ]
     },
     "metadata": {},
     "output_type": "display_data"
    },
    {
     "name": "stdout",
     "output_type": "stream",
     "text": [
      "Lower bound: 18.066 (17.951, 18.181)\n",
      "计算上界...\n"
     ]
    },
    {
     "data": {
      "application/vnd.jupyter.widget-view+json": {
       "model_id": "0ba3f929521146fc9074d2bcbfc57fca",
       "version_major": 2,
       "version_minor": 0
      },
      "text/plain": [
       "生成Black-Scholes路径:   0%|          | 0/9 [00:00<?, ?it/s]"
      ]
     },
     "metadata": {},
     "output_type": "display_data"
    },
    {
     "name": "stdout",
     "output_type": "stream",
     "text": [
      "平均行权时间: 7.38 (步数), 对应时间: 2.46 年\n"
     ]
    },
    {
     "data": {
      "application/vnd.jupyter.widget-view+json": {
       "model_id": "7ed70add7a5943f59f48fa61c9b82924",
       "version_major": 2,
       "version_minor": 0
      },
      "text/plain": [
       "Building Martingale:   0%|          | 0/9 [00:00<?, ?it/s]"
      ]
     },
     "metadata": {},
     "output_type": "display_data"
    },
    {
     "name": "stdout",
     "output_type": "stream",
     "text": [
      "时间步 1: 平均立即收益 = 0.0000, 平均继续价值 = 18.1583, ΔM均值 = 0.0000\n",
      "时间步 2: 平均立即收益 = 8.6885, 平均继续价值 = 20.0131, ΔM均值 = 0.7695\n",
      "时间步 3: 平均立即收益 = 11.6662, 平均继续价值 = 20.5139, ΔM均值 = 1.3558\n",
      "时间步 4: 平均立即收益 = 13.5481, 平均继续价值 = 20.3434, ΔM均值 = 1.6711\n",
      "时间步 5: 平均立即收益 = 14.2879, 平均继续价值 = 19.5904, ΔM均值 = 1.8119\n",
      "时间步 6: 平均立即收益 = 15.5035, 平均继续价值 = 16.3167, ΔM均值 = 2.3129\n",
      "时间步 7: 平均立即收益 = 15.8341, 平均继续价值 = 16.2872, ΔM均值 = 3.6405\n",
      "时间步 8: 平均立即收益 = 16.9092, 平均继续价值 = 16.9616, ΔM均值 = 4.0059\n",
      "时间步 9: 平均立即收益 = 17.0705, 平均继续价值 = 17.0461, ΔM均值 = 3.4371\n",
      "\n",
      "Bermudan实验结果:\n",
      "Lower bound: 18.066 (17.951, 18.181)\n",
      "Upper bound: 23.557 (22.718, 24.396)\n",
      "95% Confidence Interval: [17.951, 24.396]\n",
      "Point Estimate: 20.811\n"
     ]
    }
   ],
   "source": [
    "if __name__ == \"__main__\":\n",
    "    \n",
    "    print(\"========= Bermudan实验 =========\")\n",
    "    run_Bermudan_experiment()\n",
    "    \n",
    "    '''\n",
    "    print(\"========= Callable MBRC实验 =========\")\n",
    "    run_mbrc_experiment()\n",
    "    \n",
    "    \n",
    "    print(\"\\n========= 分数布朗运动实验 =========\")\n",
    "    for H in [0.01, 0.05, 0.1, 0.15, 0.2, 0.25, 0.3, 0.35, 0.4, 0.45, 0.5,\n",
    "             0.55, 0.6, 0.65, 0.7, 0.75, 0.8, 0.85, 0.9, 0.95, 1.0]:\n",
    "        run_fbm_experiment(H)''\n",
    "    '''"
   ]
  },
  {
   "cell_type": "code",
   "execution_count": 15,
   "metadata": {},
   "outputs": [
    {
     "name": "stdout",
     "output_type": "stream",
     "text": [
      "========= Bermudan实验 =========\n",
      "BlackScholesGenerator steps: 9\n",
      "开始训练...\n"
     ]
    },
    {
     "data": {
      "application/vnd.jupyter.widget-view+json": {
       "model_id": "86753847040044c5ae8141335fd0b003",
       "version_major": 2,
       "version_minor": 0
      },
      "text/plain": [
       "生成Black-Scholes路径:   0%|          | 0/9 [00:00<?, ?it/s]"
      ]
     },
     "metadata": {},
     "output_type": "display_data"
    },
    {
     "data": {
      "application/vnd.jupyter.widget-view+json": {
       "model_id": "e3e5f7de74264095b73759026b0d305e",
       "version_major": 2,
       "version_minor": 0
      },
      "text/plain": [
       "Training steps: 0it [00:00, ?it/s]"
      ]
     },
     "metadata": {},
     "output_type": "display_data"
    },
    {
     "data": {
      "application/vnd.jupyter.widget-view+json": {
       "model_id": "56aec904c72e457cb621fdb0d8c85abe",
       "version_major": 2,
       "version_minor": 0
      },
      "text/plain": [
       "嵌套MC(t=8):   0%|          | 0/4000 [00:00<?, ?it/s]"
      ]
     },
     "metadata": {},
     "output_type": "display_data"
    },
    {
     "data": {
      "application/vnd.jupyter.widget-view+json": {
       "model_id": "2b86ba841c154d8fa78d6f84b068b600",
       "version_major": 2,
       "version_minor": 0
      },
      "text/plain": [
       "Training step 8:   0%|          | 0/1502 [00:00<?, ?it/s]"
      ]
     },
     "metadata": {},
     "output_type": "display_data"
    },
    {
     "data": {
      "application/vnd.jupyter.widget-view+json": {
       "model_id": "6e98f480bdd64a008c922fe7c980bb39",
       "version_major": 2,
       "version_minor": 0
      },
      "text/plain": [
       "嵌套MC(t=7):   0%|          | 0/4000 [00:00<?, ?it/s]"
      ]
     },
     "metadata": {},
     "output_type": "display_data"
    },
    {
     "data": {
      "application/vnd.jupyter.widget-view+json": {
       "model_id": "ac55ab59b2184e22bb3091f079122c80",
       "version_major": 2,
       "version_minor": 0
      },
      "text/plain": [
       "Training step 7:   0%|          | 0/1502 [00:00<?, ?it/s]"
      ]
     },
     "metadata": {},
     "output_type": "display_data"
    },
    {
     "data": {
      "application/vnd.jupyter.widget-view+json": {
       "model_id": "79ad2c41ef154cb1a372879220a4992f",
       "version_major": 2,
       "version_minor": 0
      },
      "text/plain": [
       "嵌套MC(t=6):   0%|          | 0/4000 [00:00<?, ?it/s]"
      ]
     },
     "metadata": {},
     "output_type": "display_data"
    },
    {
     "data": {
      "application/vnd.jupyter.widget-view+json": {
       "model_id": "611d94c699f54cbf9f27cca1c7166964",
       "version_major": 2,
       "version_minor": 0
      },
      "text/plain": [
       "Training step 6:   0%|          | 0/1502 [00:00<?, ?it/s]"
      ]
     },
     "metadata": {},
     "output_type": "display_data"
    },
    {
     "data": {
      "application/vnd.jupyter.widget-view+json": {
       "model_id": "3ad203ed91b14ba295af0218e96c4d13",
       "version_major": 2,
       "version_minor": 0
      },
      "text/plain": [
       "嵌套MC(t=5):   0%|          | 0/4000 [00:00<?, ?it/s]"
      ]
     },
     "metadata": {},
     "output_type": "display_data"
    },
    {
     "data": {
      "application/vnd.jupyter.widget-view+json": {
       "model_id": "51751e441c0c4811b19b382e0d7309be",
       "version_major": 2,
       "version_minor": 0
      },
      "text/plain": [
       "Training step 5:   0%|          | 0/1502 [00:00<?, ?it/s]"
      ]
     },
     "metadata": {},
     "output_type": "display_data"
    },
    {
     "data": {
      "application/vnd.jupyter.widget-view+json": {
       "model_id": "4487997407bf405aa964d5c9814df659",
       "version_major": 2,
       "version_minor": 0
      },
      "text/plain": [
       "嵌套MC(t=4):   0%|          | 0/4000 [00:00<?, ?it/s]"
      ]
     },
     "metadata": {},
     "output_type": "display_data"
    },
    {
     "data": {
      "application/vnd.jupyter.widget-view+json": {
       "model_id": "b63acf7aa0a843f4b75daa501f870ba4",
       "version_major": 2,
       "version_minor": 0
      },
      "text/plain": [
       "Training step 4:   0%|          | 0/1502 [00:00<?, ?it/s]"
      ]
     },
     "metadata": {},
     "output_type": "display_data"
    },
    {
     "data": {
      "application/vnd.jupyter.widget-view+json": {
       "model_id": "e35860d2b6ea4f1a98958d51514f81eb",
       "version_major": 2,
       "version_minor": 0
      },
      "text/plain": [
       "嵌套MC(t=3):   0%|          | 0/4000 [00:00<?, ?it/s]"
      ]
     },
     "metadata": {},
     "output_type": "display_data"
    },
    {
     "data": {
      "application/vnd.jupyter.widget-view+json": {
       "model_id": "287ca134277d4432b8f9d079b6074119",
       "version_major": 2,
       "version_minor": 0
      },
      "text/plain": [
       "Training step 3:   0%|          | 0/1502 [00:00<?, ?it/s]"
      ]
     },
     "metadata": {},
     "output_type": "display_data"
    },
    {
     "data": {
      "application/vnd.jupyter.widget-view+json": {
       "model_id": "5a1a1febef874443943125f43cd31040",
       "version_major": 2,
       "version_minor": 0
      },
      "text/plain": [
       "嵌套MC(t=2):   0%|          | 0/4000 [00:00<?, ?it/s]"
      ]
     },
     "metadata": {},
     "output_type": "display_data"
    },
    {
     "data": {
      "application/vnd.jupyter.widget-view+json": {
       "model_id": "5a466d293b224e7f87f3adc27ef7929a",
       "version_major": 2,
       "version_minor": 0
      },
      "text/plain": [
       "Training step 2:   0%|          | 0/1502 [00:00<?, ?it/s]"
      ]
     },
     "metadata": {},
     "output_type": "display_data"
    },
    {
     "data": {
      "application/vnd.jupyter.widget-view+json": {
       "model_id": "769fce95a1714a1ea1065f0dbede5413",
       "version_major": 2,
       "version_minor": 0
      },
      "text/plain": [
       "嵌套MC(t=1):   0%|          | 0/4000 [00:00<?, ?it/s]"
      ]
     },
     "metadata": {},
     "output_type": "display_data"
    },
    {
     "data": {
      "application/vnd.jupyter.widget-view+json": {
       "model_id": "1ff0cd4fd4684d36ba4dc8cef9693cdf",
       "version_major": 2,
       "version_minor": 0
      },
      "text/plain": [
       "Training step 1:   0%|          | 0/1502 [00:00<?, ?it/s]"
      ]
     },
     "metadata": {},
     "output_type": "display_data"
    },
    {
     "data": {
      "application/vnd.jupyter.widget-view+json": {
       "model_id": "c473d7b05df54f72b837dce19337a508",
       "version_major": 2,
       "version_minor": 0
      },
      "text/plain": [
       "嵌套MC(t=0):   0%|          | 0/4000 [00:00<?, ?it/s]"
      ]
     },
     "metadata": {},
     "output_type": "display_data"
    },
    {
     "data": {
      "application/vnd.jupyter.widget-view+json": {
       "model_id": "c869062883874300a0a57aa46ec263ae",
       "version_major": 2,
       "version_minor": 0
      },
      "text/plain": [
       "Training step 0:   0%|          | 0/1502 [00:00<?, ?it/s]"
      ]
     },
     "metadata": {},
     "output_type": "display_data"
    },
    {
     "name": "stdout",
     "output_type": "stream",
     "text": [
      "计算下界...\n"
     ]
    },
    {
     "data": {
      "application/vnd.jupyter.widget-view+json": {
       "model_id": "e97d644214704e2c961f764815b6fcc3",
       "version_major": 2,
       "version_minor": 0
      },
      "text/plain": [
       "生成Black-Scholes路径:   0%|          | 0/9 [00:00<?, ?it/s]"
      ]
     },
     "metadata": {},
     "output_type": "display_data"
    },
    {
     "name": "stdout",
     "output_type": "stream",
     "text": [
      "Lower bound: 13.720 (13.620, 13.820)\n",
      "计算上界...\n"
     ]
    },
    {
     "data": {
      "application/vnd.jupyter.widget-view+json": {
       "model_id": "27e09088dad3425890010e39e5cabdce",
       "version_major": 2,
       "version_minor": 0
      },
      "text/plain": [
       "生成Black-Scholes路径:   0%|          | 0/9 [00:00<?, ?it/s]"
      ]
     },
     "metadata": {},
     "output_type": "display_data"
    },
    {
     "name": "stdout",
     "output_type": "stream",
     "text": [
      "平均行权时间: 7.18 (步数), 对应时间: 2.39 年\n"
     ]
    },
    {
     "data": {
      "application/vnd.jupyter.widget-view+json": {
       "model_id": "e283217d29b9407696e3757a7bed25f5",
       "version_major": 2,
       "version_minor": 0
      },
      "text/plain": [
       "Building Martingale:   0%|          | 0/9 [00:00<?, ?it/s]"
      ]
     },
     "metadata": {},
     "output_type": "display_data"
    },
    {
     "name": "stdout",
     "output_type": "stream",
     "text": [
      "时间步 1: 平均立即收益 = 0.0000, 平均继续价值 = 13.6359, ΔM均值 = 0.0000\n",
      "时间步 2: 平均立即收益 = 6.3728, 平均继续价值 = 14.7409, ΔM均值 = 1.1986\n",
      "时间步 3: 平均立即收益 = 8.2845, 平均继续价值 = 14.8697, ΔM均值 = 1.3803\n",
      "时间步 4: 平均立即收益 = 9.1777, 平均继续价值 = 14.1637, ΔM均值 = 1.5322\n",
      "时间步 5: 平均立即收益 = 9.9320, 平均继续价值 = 13.3017, ΔM均值 = 1.7501\n",
      "时间步 6: 平均立即收益 = 10.5659, 平均继续价值 = 11.2249, ΔM均值 = 2.1826\n",
      "时间步 7: 平均立即收益 = 10.5491, 平均继续价值 = 10.9291, ΔM均值 = 2.7159\n",
      "时间步 8: 平均立即收益 = 11.3765, 平均继续价值 = 11.4143, ΔM均值 = 3.2710\n",
      "时间步 9: 平均立即收益 = 10.9659, 平均继续价值 = 11.0519, ΔM均值 = 2.4514\n",
      "\n",
      "Bermudan实验结果:\n",
      "Lower bound: 13.720 (13.620, 13.820)\n",
      "Upper bound: 17.514 (16.727, 18.301)\n",
      "95% Confidence Interval: [13.620, 18.301]\n",
      "Point Estimate: 15.617\n"
     ]
    }
   ],
   "source": [
    "def run_Bermudan_experiment():\n",
    "    \"\"\"Bermudan实验 对应论文表1/2 \"\"\"\n",
    "    params = {\n",
    "        \"d\": 2,\n",
    "        \"steps\": 9,\n",
    "        \"T\": 3.0,\n",
    "        \"r\": 0.05,\n",
    "        \"sigma\": 0.2,\n",
    "        \"rho\": 0.0,\n",
    "        \"div\": 0.1\n",
    "    }\n",
    "    \n",
    "    # 初始化生成器和训练器\n",
    "    bs_gen = BlackScholesGenerator(**params)\n",
    "    print(\"BlackScholesGenerator steps:\", bs_gen.steps)\n",
    "    trainer = BermudanMaxCallTrainer(bs_gen, hidden_dim=40+params[\"d\"])\n",
    "    \n",
    "    # 训练（3000步，每批8192条路径）\n",
    "    print(\"开始训练...\")\n",
    "    trainer.train(n_paths=4000, epochs=1500+params[\"d\"],batch_size=2048)#8192,3000\n",
    "    \n",
    "    # 计算上下界\n",
    "    print(\"计算下界...\")\n",
    "    lb_result = trainer.compute_lower_bound(n_paths=100000)#4096000\n",
    "    print(f\"Lower bound: {lb_result['estimate']:.3f} ({lb_result['lower']:.3f}, {lb_result['upper']:.3f})\")\n",
    "    print(\"计算上界...\")\n",
    "    ub_result = trainer.compute_upper_bound(n_paths=1024, J=5000) #1024，16384\n",
    "    \n",
    "    # 输出结果\n",
    "    print(f\"\\nBermudan实验结果:\")\n",
    "    print(f\"Lower bound: {lb_result['estimate']:.3f} ({lb_result['lower']:.3f}, {lb_result['upper']:.3f})\")\n",
    "    print(f\"Upper bound: {ub_result['estimate']:.3f} ({ub_result['lower']:.3f}, {ub_result['upper']:.3f})\")\n",
    "    print(f\"95% Confidence Interval: [{lb_result['lower']:.3f}, {ub_result['upper']:.3f}]\")\n",
    "    print(f\"Point Estimate: {(lb_result['estimate'] + ub_result['estimate'])/2:.3f}\")\n",
    "\n",
    "print(\"========= Bermudan实验 =========\")\n",
    "run_Bermudan_experiment()"
   ]
  },
  {
   "cell_type": "code",
   "execution_count": 16,
   "metadata": {},
   "outputs": [
    {
     "name": "stdout",
     "output_type": "stream",
     "text": [
      "========= Bermudan实验 =========\n",
      "BlackScholesGenerator steps: 9\n",
      "开始训练...\n"
     ]
    },
    {
     "data": {
      "application/vnd.jupyter.widget-view+json": {
       "model_id": "7ad6a4f6dd3948639fbc6835618bac0d",
       "version_major": 2,
       "version_minor": 0
      },
      "text/plain": [
       "生成Black-Scholes路径:   0%|          | 0/9 [00:00<?, ?it/s]"
      ]
     },
     "metadata": {},
     "output_type": "display_data"
    },
    {
     "data": {
      "application/vnd.jupyter.widget-view+json": {
       "model_id": "e120f406823f4b9f8133f452f82456b0",
       "version_major": 2,
       "version_minor": 0
      },
      "text/plain": [
       "Training steps: 0it [00:00, ?it/s]"
      ]
     },
     "metadata": {},
     "output_type": "display_data"
    },
    {
     "data": {
      "application/vnd.jupyter.widget-view+json": {
       "model_id": "ba63f771f05b4c69a8b0000abcd30176",
       "version_major": 2,
       "version_minor": 0
      },
      "text/plain": [
       "嵌套MC(t=8):   0%|          | 0/4000 [00:00<?, ?it/s]"
      ]
     },
     "metadata": {},
     "output_type": "display_data"
    },
    {
     "data": {
      "application/vnd.jupyter.widget-view+json": {
       "model_id": "80acf56362244f83b85e842e16d68c60",
       "version_major": 2,
       "version_minor": 0
      },
      "text/plain": [
       "Training step 8:   0%|          | 0/1505 [00:00<?, ?it/s]"
      ]
     },
     "metadata": {},
     "output_type": "display_data"
    },
    {
     "data": {
      "application/vnd.jupyter.widget-view+json": {
       "model_id": "cef0528e1e9d48c5b57e04d71bdffb76",
       "version_major": 2,
       "version_minor": 0
      },
      "text/plain": [
       "嵌套MC(t=7):   0%|          | 0/4000 [00:00<?, ?it/s]"
      ]
     },
     "metadata": {},
     "output_type": "display_data"
    },
    {
     "data": {
      "application/vnd.jupyter.widget-view+json": {
       "model_id": "2e16f9a495304c3ebb6c1e4cd3c8e2f5",
       "version_major": 2,
       "version_minor": 0
      },
      "text/plain": [
       "Training step 7:   0%|          | 0/1505 [00:00<?, ?it/s]"
      ]
     },
     "metadata": {},
     "output_type": "display_data"
    },
    {
     "data": {
      "application/vnd.jupyter.widget-view+json": {
       "model_id": "972852e9d95b4d1bbf49742a256b27ec",
       "version_major": 2,
       "version_minor": 0
      },
      "text/plain": [
       "嵌套MC(t=6):   0%|          | 0/4000 [00:00<?, ?it/s]"
      ]
     },
     "metadata": {},
     "output_type": "display_data"
    },
    {
     "data": {
      "application/vnd.jupyter.widget-view+json": {
       "model_id": "36c4632e208141a2880f4737a5e85557",
       "version_major": 2,
       "version_minor": 0
      },
      "text/plain": [
       "Training step 6:   0%|          | 0/1505 [00:00<?, ?it/s]"
      ]
     },
     "metadata": {},
     "output_type": "display_data"
    },
    {
     "data": {
      "application/vnd.jupyter.widget-view+json": {
       "model_id": "9bacc3f673484335b4088f76e432a139",
       "version_major": 2,
       "version_minor": 0
      },
      "text/plain": [
       "嵌套MC(t=5):   0%|          | 0/4000 [00:00<?, ?it/s]"
      ]
     },
     "metadata": {},
     "output_type": "display_data"
    },
    {
     "data": {
      "application/vnd.jupyter.widget-view+json": {
       "model_id": "9c53080431b54e83ac0a5502c7072cde",
       "version_major": 2,
       "version_minor": 0
      },
      "text/plain": [
       "Training step 5:   0%|          | 0/1505 [00:00<?, ?it/s]"
      ]
     },
     "metadata": {},
     "output_type": "display_data"
    },
    {
     "data": {
      "application/vnd.jupyter.widget-view+json": {
       "model_id": "48beb373fae4498c86c41c1edf988335",
       "version_major": 2,
       "version_minor": 0
      },
      "text/plain": [
       "嵌套MC(t=4):   0%|          | 0/4000 [00:00<?, ?it/s]"
      ]
     },
     "metadata": {},
     "output_type": "display_data"
    },
    {
     "data": {
      "application/vnd.jupyter.widget-view+json": {
       "model_id": "8a12ef2eb6b04bcc90b8a752e5a285df",
       "version_major": 2,
       "version_minor": 0
      },
      "text/plain": [
       "Training step 4:   0%|          | 0/1505 [00:00<?, ?it/s]"
      ]
     },
     "metadata": {},
     "output_type": "display_data"
    },
    {
     "data": {
      "application/vnd.jupyter.widget-view+json": {
       "model_id": "9f28eef941af4fcb991985b850d97fef",
       "version_major": 2,
       "version_minor": 0
      },
      "text/plain": [
       "嵌套MC(t=3):   0%|          | 0/4000 [00:00<?, ?it/s]"
      ]
     },
     "metadata": {},
     "output_type": "display_data"
    },
    {
     "data": {
      "application/vnd.jupyter.widget-view+json": {
       "model_id": "aa655fa4bb5b444a9e74665ae5f6d4e8",
       "version_major": 2,
       "version_minor": 0
      },
      "text/plain": [
       "Training step 3:   0%|          | 0/1505 [00:00<?, ?it/s]"
      ]
     },
     "metadata": {},
     "output_type": "display_data"
    },
    {
     "data": {
      "application/vnd.jupyter.widget-view+json": {
       "model_id": "6cad0376c5914763acb3b94b1b445198",
       "version_major": 2,
       "version_minor": 0
      },
      "text/plain": [
       "嵌套MC(t=2):   0%|          | 0/4000 [00:00<?, ?it/s]"
      ]
     },
     "metadata": {},
     "output_type": "display_data"
    },
    {
     "data": {
      "application/vnd.jupyter.widget-view+json": {
       "model_id": "263279fb4e214594a4f9ebbc80ebcfa7",
       "version_major": 2,
       "version_minor": 0
      },
      "text/plain": [
       "Training step 2:   0%|          | 0/1505 [00:00<?, ?it/s]"
      ]
     },
     "metadata": {},
     "output_type": "display_data"
    },
    {
     "data": {
      "application/vnd.jupyter.widget-view+json": {
       "model_id": "38bbd2a55d9c4da4a6cc382eba927189",
       "version_major": 2,
       "version_minor": 0
      },
      "text/plain": [
       "嵌套MC(t=1):   0%|          | 0/4000 [00:00<?, ?it/s]"
      ]
     },
     "metadata": {},
     "output_type": "display_data"
    },
    {
     "data": {
      "application/vnd.jupyter.widget-view+json": {
       "model_id": "4997548149754aada723a015dd76a424",
       "version_major": 2,
       "version_minor": 0
      },
      "text/plain": [
       "Training step 1:   0%|          | 0/1505 [00:00<?, ?it/s]"
      ]
     },
     "metadata": {},
     "output_type": "display_data"
    },
    {
     "data": {
      "application/vnd.jupyter.widget-view+json": {
       "model_id": "4be10f4481734c18b69c29cd35b46c55",
       "version_major": 2,
       "version_minor": 0
      },
      "text/plain": [
       "嵌套MC(t=0):   0%|          | 0/4000 [00:00<?, ?it/s]"
      ]
     },
     "metadata": {},
     "output_type": "display_data"
    },
    {
     "data": {
      "application/vnd.jupyter.widget-view+json": {
       "model_id": "6963f2c39b4942cd9e970807057f58fd",
       "version_major": 2,
       "version_minor": 0
      },
      "text/plain": [
       "Training step 0:   0%|          | 0/1505 [00:00<?, ?it/s]"
      ]
     },
     "metadata": {},
     "output_type": "display_data"
    },
    {
     "name": "stdout",
     "output_type": "stream",
     "text": [
      "计算下界...\n"
     ]
    },
    {
     "data": {
      "application/vnd.jupyter.widget-view+json": {
       "model_id": "5ca6e72f38cb4be09f72813d076a014b",
       "version_major": 2,
       "version_minor": 0
      },
      "text/plain": [
       "生成Black-Scholes路径:   0%|          | 0/9 [00:00<?, ?it/s]"
      ]
     },
     "metadata": {},
     "output_type": "display_data"
    },
    {
     "name": "stdout",
     "output_type": "stream",
     "text": [
      "Lower bound: 25.421 (25.289, 25.553)\n",
      "计算上界...\n"
     ]
    },
    {
     "data": {
      "application/vnd.jupyter.widget-view+json": {
       "model_id": "22fc490fe018433e80b7c450e981932e",
       "version_major": 2,
       "version_minor": 0
      },
      "text/plain": [
       "生成Black-Scholes路径:   0%|          | 0/9 [00:00<?, ?it/s]"
      ]
     },
     "metadata": {},
     "output_type": "display_data"
    },
    {
     "name": "stdout",
     "output_type": "stream",
     "text": [
      "平均行权时间: 7.58 (步数), 对应时间: 2.53 年\n"
     ]
    },
    {
     "data": {
      "application/vnd.jupyter.widget-view+json": {
       "model_id": "2c9bce6e00a14704aac2dafc03fcaf88",
       "version_major": 2,
       "version_minor": 0
      },
      "text/plain": [
       "Building Martingale:   0%|          | 0/9 [00:00<?, ?it/s]"
      ]
     },
     "metadata": {},
     "output_type": "display_data"
    },
    {
     "name": "stdout",
     "output_type": "stream",
     "text": [
      "时间步 1: 平均立即收益 = 0.0000, 平均继续价值 = 25.4595, ΔM均值 = 0.0000\n",
      "时间步 2: 平均立即收益 = 11.9903, 平均继续价值 = 27.7209, ΔM均值 = 0.4160\n",
      "时间步 3: 平均立即收益 = 16.3279, 平均继续价值 = 28.4431, ΔM均值 = 1.0158\n",
      "时间步 4: 平均立即收益 = 18.8012, 平均继续价值 = 28.2596, ΔM均值 = 1.5336\n",
      "时间步 5: 平均立即收益 = 20.6757, 平均继续价值 = 27.2859, ΔM均值 = 1.8977\n",
      "时间步 6: 平均立即收益 = 20.7052, 平均继续价值 = 22.6991, ΔM均值 = 1.9992\n",
      "时间步 7: 平均立即收益 = 21.7868, 平均继续价值 = 22.9378, ΔM均值 = 4.1633\n",
      "时间步 8: 平均立即收益 = 22.2550, 平均继续价值 = 22.9891, ΔM均值 = 4.1314\n",
      "时间步 9: 平均立即收益 = 23.1732, 平均继续价值 = 23.4459, ΔM均值 = 4.2196\n",
      "\n",
      "Bermudan实验结果:\n",
      "Lower bound: 25.421 (25.289, 25.553)\n",
      "Upper bound: 31.891 (30.934, 32.847)\n",
      "95% Confidence Interval: [25.289, 32.847]\n",
      "Point Estimate: 28.656\n"
     ]
    }
   ],
   "source": [
    "def run_Bermudan_experiment():\n",
    "    \"\"\"Bermudan实验 对应论文表1/2 \"\"\"\n",
    "    params = {\n",
    "        \"d\": 5,\n",
    "        \"steps\": 9,\n",
    "        \"T\": 3.0,\n",
    "        \"r\": 0.05,\n",
    "        \"sigma\": 0.2,\n",
    "        \"rho\": 0.0,\n",
    "        \"div\": 0.1\n",
    "    }\n",
    "    \n",
    "    # 初始化生成器和训练器\n",
    "    bs_gen = BlackScholesGenerator(**params)\n",
    "    print(\"BlackScholesGenerator steps:\", bs_gen.steps)\n",
    "    trainer = BermudanMaxCallTrainer(bs_gen, hidden_dim=40+params[\"d\"])\n",
    "    \n",
    "    # 训练（3000步，每批8192条路径）\n",
    "    print(\"开始训练...\")\n",
    "    trainer.train(n_paths=4000, epochs=1500+params[\"d\"],batch_size=2048)#8192,3000\n",
    "    \n",
    "    # 计算上下界\n",
    "    print(\"计算下界...\")\n",
    "    lb_result = trainer.compute_lower_bound(n_paths=100000)#4096000\n",
    "    print(f\"Lower bound: {lb_result['estimate']:.3f} ({lb_result['lower']:.3f}, {lb_result['upper']:.3f})\")\n",
    "    print(\"计算上界...\")\n",
    "    ub_result = trainer.compute_upper_bound(n_paths=1024, J=5000) #1024，16384\n",
    "    \n",
    "    # 输出结果\n",
    "    print(f\"\\nBermudan实验结果:\")\n",
    "    print(f\"Lower bound: {lb_result['estimate']:.3f} ({lb_result['lower']:.3f}, {lb_result['upper']:.3f})\")\n",
    "    print(f\"Upper bound: {ub_result['estimate']:.3f} ({ub_result['lower']:.3f}, {ub_result['upper']:.3f})\")\n",
    "    print(f\"95% Confidence Interval: [{lb_result['lower']:.3f}, {ub_result['upper']:.3f}]\")\n",
    "    print(f\"Point Estimate: {(lb_result['estimate'] + ub_result['estimate'])/2:.3f}\")\n",
    "\n",
    "print(\"========= Bermudan实验 =========\")\n",
    "run_Bermudan_experiment()"
   ]
  },
  {
   "cell_type": "code",
   "execution_count": 17,
   "metadata": {},
   "outputs": [
    {
     "name": "stdout",
     "output_type": "stream",
     "text": [
      "========= Bermudan实验 =========\n",
      "BlackScholesGenerator steps: 9\n",
      "开始训练...\n"
     ]
    },
    {
     "data": {
      "application/vnd.jupyter.widget-view+json": {
       "model_id": "33d32566aed54185afc1683a09a22fe0",
       "version_major": 2,
       "version_minor": 0
      },
      "text/plain": [
       "生成Black-Scholes路径:   0%|          | 0/9 [00:00<?, ?it/s]"
      ]
     },
     "metadata": {},
     "output_type": "display_data"
    },
    {
     "data": {
      "application/vnd.jupyter.widget-view+json": {
       "model_id": "a94e8938765f4240bc1379ae290f6f58",
       "version_major": 2,
       "version_minor": 0
      },
      "text/plain": [
       "Training steps: 0it [00:00, ?it/s]"
      ]
     },
     "metadata": {},
     "output_type": "display_data"
    },
    {
     "data": {
      "application/vnd.jupyter.widget-view+json": {
       "model_id": "16f23a3fed1f4f3694f97482f7e0c381",
       "version_major": 2,
       "version_minor": 0
      },
      "text/plain": [
       "嵌套MC(t=8):   0%|          | 0/4000 [00:00<?, ?it/s]"
      ]
     },
     "metadata": {},
     "output_type": "display_data"
    },
    {
     "data": {
      "application/vnd.jupyter.widget-view+json": {
       "model_id": "815650b721e24d82bde7554e3554704b",
       "version_major": 2,
       "version_minor": 0
      },
      "text/plain": [
       "Training step 8:   0%|          | 0/1510 [00:00<?, ?it/s]"
      ]
     },
     "metadata": {},
     "output_type": "display_data"
    },
    {
     "data": {
      "application/vnd.jupyter.widget-view+json": {
       "model_id": "d0ced3f2c6e246bfb5838c677af95c88",
       "version_major": 2,
       "version_minor": 0
      },
      "text/plain": [
       "嵌套MC(t=7):   0%|          | 0/4000 [00:00<?, ?it/s]"
      ]
     },
     "metadata": {},
     "output_type": "display_data"
    },
    {
     "data": {
      "application/vnd.jupyter.widget-view+json": {
       "model_id": "a3cd6ed1cdf3401e83e7875afb5fad17",
       "version_major": 2,
       "version_minor": 0
      },
      "text/plain": [
       "Training step 7:   0%|          | 0/1510 [00:00<?, ?it/s]"
      ]
     },
     "metadata": {},
     "output_type": "display_data"
    },
    {
     "data": {
      "application/vnd.jupyter.widget-view+json": {
       "model_id": "89858e41e95e4869aaef5c5f572a3507",
       "version_major": 2,
       "version_minor": 0
      },
      "text/plain": [
       "嵌套MC(t=6):   0%|          | 0/4000 [00:00<?, ?it/s]"
      ]
     },
     "metadata": {},
     "output_type": "display_data"
    },
    {
     "data": {
      "application/vnd.jupyter.widget-view+json": {
       "model_id": "e5c89ec32ae7439dbff4ceec43fc49de",
       "version_major": 2,
       "version_minor": 0
      },
      "text/plain": [
       "Training step 6:   0%|          | 0/1510 [00:00<?, ?it/s]"
      ]
     },
     "metadata": {},
     "output_type": "display_data"
    },
    {
     "data": {
      "application/vnd.jupyter.widget-view+json": {
       "model_id": "44b6309dbb7245d289e7e3ed6d1205a0",
       "version_major": 2,
       "version_minor": 0
      },
      "text/plain": [
       "嵌套MC(t=5):   0%|          | 0/4000 [00:00<?, ?it/s]"
      ]
     },
     "metadata": {},
     "output_type": "display_data"
    },
    {
     "data": {
      "application/vnd.jupyter.widget-view+json": {
       "model_id": "33d71cec60b74e6ead41590a41b2f30d",
       "version_major": 2,
       "version_minor": 0
      },
      "text/plain": [
       "Training step 5:   0%|          | 0/1510 [00:00<?, ?it/s]"
      ]
     },
     "metadata": {},
     "output_type": "display_data"
    },
    {
     "data": {
      "application/vnd.jupyter.widget-view+json": {
       "model_id": "ab2e25a0135748bb81eafc8179dee391",
       "version_major": 2,
       "version_minor": 0
      },
      "text/plain": [
       "嵌套MC(t=4):   0%|          | 0/4000 [00:00<?, ?it/s]"
      ]
     },
     "metadata": {},
     "output_type": "display_data"
    },
    {
     "data": {
      "application/vnd.jupyter.widget-view+json": {
       "model_id": "35094dcd33444f3b83f008fddd86992e",
       "version_major": 2,
       "version_minor": 0
      },
      "text/plain": [
       "Training step 4:   0%|          | 0/1510 [00:00<?, ?it/s]"
      ]
     },
     "metadata": {},
     "output_type": "display_data"
    },
    {
     "data": {
      "application/vnd.jupyter.widget-view+json": {
       "model_id": "7191ef36f588400d956eae27b48809c4",
       "version_major": 2,
       "version_minor": 0
      },
      "text/plain": [
       "嵌套MC(t=3):   0%|          | 0/4000 [00:00<?, ?it/s]"
      ]
     },
     "metadata": {},
     "output_type": "display_data"
    },
    {
     "data": {
      "application/vnd.jupyter.widget-view+json": {
       "model_id": "e5c30788e764459d89c739520cf67de8",
       "version_major": 2,
       "version_minor": 0
      },
      "text/plain": [
       "Training step 3:   0%|          | 0/1510 [00:00<?, ?it/s]"
      ]
     },
     "metadata": {},
     "output_type": "display_data"
    },
    {
     "data": {
      "application/vnd.jupyter.widget-view+json": {
       "model_id": "d6ad7f076af947e19f5739cc4de6082b",
       "version_major": 2,
       "version_minor": 0
      },
      "text/plain": [
       "嵌套MC(t=2):   0%|          | 0/4000 [00:00<?, ?it/s]"
      ]
     },
     "metadata": {},
     "output_type": "display_data"
    },
    {
     "data": {
      "application/vnd.jupyter.widget-view+json": {
       "model_id": "e94f4137e4744480843fabe552d7a8b3",
       "version_major": 2,
       "version_minor": 0
      },
      "text/plain": [
       "Training step 2:   0%|          | 0/1510 [00:00<?, ?it/s]"
      ]
     },
     "metadata": {},
     "output_type": "display_data"
    },
    {
     "data": {
      "application/vnd.jupyter.widget-view+json": {
       "model_id": "bae87b614b8640dc81acc31540907aeb",
       "version_major": 2,
       "version_minor": 0
      },
      "text/plain": [
       "嵌套MC(t=1):   0%|          | 0/4000 [00:00<?, ?it/s]"
      ]
     },
     "metadata": {},
     "output_type": "display_data"
    },
    {
     "data": {
      "application/vnd.jupyter.widget-view+json": {
       "model_id": "0c80d4cb6b0b497a835626bb18c730a4",
       "version_major": 2,
       "version_minor": 0
      },
      "text/plain": [
       "Training step 1:   0%|          | 0/1510 [00:00<?, ?it/s]"
      ]
     },
     "metadata": {},
     "output_type": "display_data"
    },
    {
     "data": {
      "application/vnd.jupyter.widget-view+json": {
       "model_id": "577a89eec7294472ac82ceda72119236",
       "version_major": 2,
       "version_minor": 0
      },
      "text/plain": [
       "嵌套MC(t=0):   0%|          | 0/4000 [00:00<?, ?it/s]"
      ]
     },
     "metadata": {},
     "output_type": "display_data"
    },
    {
     "data": {
      "application/vnd.jupyter.widget-view+json": {
       "model_id": "1094baa5f41e448b88132e82107b91f3",
       "version_major": 2,
       "version_minor": 0
      },
      "text/plain": [
       "Training step 0:   0%|          | 0/1510 [00:00<?, ?it/s]"
      ]
     },
     "metadata": {},
     "output_type": "display_data"
    },
    {
     "name": "stdout",
     "output_type": "stream",
     "text": [
      "计算下界...\n"
     ]
    },
    {
     "data": {
      "application/vnd.jupyter.widget-view+json": {
       "model_id": "a82354c6594347f99b394059f66a024e",
       "version_major": 2,
       "version_minor": 0
      },
      "text/plain": [
       "生成Black-Scholes路径:   0%|          | 0/9 [00:00<?, ?it/s]"
      ]
     },
     "metadata": {},
     "output_type": "display_data"
    },
    {
     "name": "stdout",
     "output_type": "stream",
     "text": [
      "Lower bound: 37.252 (37.104, 37.399)\n",
      "计算上界...\n"
     ]
    },
    {
     "data": {
      "application/vnd.jupyter.widget-view+json": {
       "model_id": "d61c27b9642640d1b623b01a18b79045",
       "version_major": 2,
       "version_minor": 0
      },
      "text/plain": [
       "生成Black-Scholes路径:   0%|          | 0/9 [00:00<?, ?it/s]"
      ]
     },
     "metadata": {},
     "output_type": "display_data"
    },
    {
     "name": "stdout",
     "output_type": "stream",
     "text": [
      "平均行权时间: 8.12 (步数), 对应时间: 2.71 年\n"
     ]
    },
    {
     "data": {
      "application/vnd.jupyter.widget-view+json": {
       "model_id": "0d37f6a756d24464a5048cbccd1e4050",
       "version_major": 2,
       "version_minor": 0
      },
      "text/plain": [
       "Building Martingale:   0%|          | 0/9 [00:00<?, ?it/s]"
      ]
     },
     "metadata": {},
     "output_type": "display_data"
    },
    {
     "name": "stdout",
     "output_type": "stream",
     "text": [
      "时间步 1: 平均立即收益 = 0.0000, 平均继续价值 = 37.3092, ΔM均值 = 0.0000\n",
      "时间步 2: 平均立即收益 = 16.5021, 平均继续价值 = 39.1009, ΔM均值 = 0.0633\n",
      "时间步 3: 平均立即收益 = 22.5868, 平均继续价值 = 40.0438, ΔM均值 = 0.5095\n",
      "时间步 4: 平均立即收益 = 26.7118, 平均继续价值 = 40.3409, ΔM均值 = 1.0096\n",
      "时间步 5: 平均立即收益 = 29.8156, 平均继续价值 = 39.2842, ΔM均值 = 1.6800\n",
      "时间步 6: 平均立即收益 = 31.8185, 平均继续价值 = 36.3082, ΔM均值 = 2.3922\n",
      "时间步 7: 平均立即收益 = 33.3434, 平均继续价值 = 36.0068, ΔM均值 = 3.6910\n",
      "时间步 8: 平均立即收益 = 35.4384, 平均继续价值 = 36.8769, ΔM均值 = 4.9963\n",
      "时间步 9: 平均立即收益 = 36.2618, 平均继续价值 = 36.9230, ΔM均值 = 4.7989\n",
      "\n",
      "Bermudan实验结果:\n",
      "Lower bound: 37.252 (37.104, 37.399)\n",
      "Upper bound: 44.736 (43.742, 45.730)\n",
      "95% Confidence Interval: [37.104, 45.730]\n",
      "Point Estimate: 40.994\n"
     ]
    }
   ],
   "source": [
    "def run_Bermudan_experiment():\n",
    "    \"\"\"Bermudan实验 对应论文表1/2 \"\"\"\n",
    "    params = {\n",
    "        \"d\": 10,\n",
    "        \"steps\": 9,\n",
    "        \"T\": 3.0,\n",
    "        \"r\": 0.05,\n",
    "        \"sigma\": 0.2,\n",
    "        \"rho\": 0.0,\n",
    "        \"div\": 0.1\n",
    "    }\n",
    "    \n",
    "    # 初始化生成器和训练器\n",
    "    bs_gen = BlackScholesGenerator(**params)\n",
    "    print(\"BlackScholesGenerator steps:\", bs_gen.steps)\n",
    "    trainer = BermudanMaxCallTrainer(bs_gen, hidden_dim=40+params[\"d\"])\n",
    "    \n",
    "    # 训练（3000步，每批8192条路径）\n",
    "    print(\"开始训练...\")\n",
    "    trainer.train(n_paths=4000, epochs=1500+params[\"d\"],batch_size=2048)#8192,3000\n",
    "    \n",
    "    # 计算上下界\n",
    "    print(\"计算下界...\")\n",
    "    lb_result = trainer.compute_lower_bound(n_paths=100000)#4096000\n",
    "    print(f\"Lower bound: {lb_result['estimate']:.3f} ({lb_result['lower']:.3f}, {lb_result['upper']:.3f})\")\n",
    "    print(\"计算上界...\")\n",
    "    ub_result = trainer.compute_upper_bound(n_paths=1024, J=5000) #1024，16384\n",
    "    \n",
    "    # 输出结果\n",
    "    print(f\"\\nBermudan实验结果:\")\n",
    "    print(f\"Lower bound: {lb_result['estimate']:.3f} ({lb_result['lower']:.3f}, {lb_result['upper']:.3f})\")\n",
    "    print(f\"Upper bound: {ub_result['estimate']:.3f} ({ub_result['lower']:.3f}, {ub_result['upper']:.3f})\")\n",
    "    print(f\"95% Confidence Interval: [{lb_result['lower']:.3f}, {ub_result['upper']:.3f}]\")\n",
    "    print(f\"Point Estimate: {(lb_result['estimate'] + ub_result['estimate'])/2:.3f}\")\n",
    "\n",
    "print(\"========= Bermudan实验 =========\")\n",
    "run_Bermudan_experiment()"
   ]
  },
  {
   "cell_type": "code",
   "execution_count": 18,
   "metadata": {},
   "outputs": [
    {
     "name": "stdout",
     "output_type": "stream",
     "text": [
      "========= Bermudan实验 =========\n",
      "BlackScholesGenerator steps: 9\n",
      "开始训练...\n"
     ]
    },
    {
     "data": {
      "application/vnd.jupyter.widget-view+json": {
       "model_id": "db9c5bf340c446afb3b9781cb8fc6586",
       "version_major": 2,
       "version_minor": 0
      },
      "text/plain": [
       "生成Black-Scholes路径:   0%|          | 0/9 [00:00<?, ?it/s]"
      ]
     },
     "metadata": {},
     "output_type": "display_data"
    },
    {
     "data": {
      "application/vnd.jupyter.widget-view+json": {
       "model_id": "6a536ff80965483eb18b4891123d9df0",
       "version_major": 2,
       "version_minor": 0
      },
      "text/plain": [
       "Training steps: 0it [00:00, ?it/s]"
      ]
     },
     "metadata": {},
     "output_type": "display_data"
    },
    {
     "data": {
      "application/vnd.jupyter.widget-view+json": {
       "model_id": "132c7e3e85684ce78fdb0d888b81a207",
       "version_major": 2,
       "version_minor": 0
      },
      "text/plain": [
       "嵌套MC(t=8):   0%|          | 0/4000 [00:00<?, ?it/s]"
      ]
     },
     "metadata": {},
     "output_type": "display_data"
    },
    {
     "data": {
      "application/vnd.jupyter.widget-view+json": {
       "model_id": "88aa7ade4f0444df8ec401ee5314778a",
       "version_major": 2,
       "version_minor": 0
      },
      "text/plain": [
       "Training step 8:   0%|          | 0/1501 [00:00<?, ?it/s]"
      ]
     },
     "metadata": {},
     "output_type": "display_data"
    },
    {
     "data": {
      "application/vnd.jupyter.widget-view+json": {
       "model_id": "883569baa3964580b81ef34763099341",
       "version_major": 2,
       "version_minor": 0
      },
      "text/plain": [
       "嵌套MC(t=7):   0%|          | 0/4000 [00:00<?, ?it/s]"
      ]
     },
     "metadata": {},
     "output_type": "display_data"
    },
    {
     "data": {
      "application/vnd.jupyter.widget-view+json": {
       "model_id": "f0d760350d874464a4de445ac4d0c941",
       "version_major": 2,
       "version_minor": 0
      },
      "text/plain": [
       "Training step 7:   0%|          | 0/1501 [00:00<?, ?it/s]"
      ]
     },
     "metadata": {},
     "output_type": "display_data"
    },
    {
     "data": {
      "application/vnd.jupyter.widget-view+json": {
       "model_id": "89687b05c1e347fc8e4b7fe4520b76d0",
       "version_major": 2,
       "version_minor": 0
      },
      "text/plain": [
       "嵌套MC(t=6):   0%|          | 0/4000 [00:00<?, ?it/s]"
      ]
     },
     "metadata": {},
     "output_type": "display_data"
    },
    {
     "data": {
      "application/vnd.jupyter.widget-view+json": {
       "model_id": "f5b155bdc9ff41609e1965f2f63333d9",
       "version_major": 2,
       "version_minor": 0
      },
      "text/plain": [
       "Training step 6:   0%|          | 0/1501 [00:00<?, ?it/s]"
      ]
     },
     "metadata": {},
     "output_type": "display_data"
    },
    {
     "data": {
      "application/vnd.jupyter.widget-view+json": {
       "model_id": "b4a87b8e5b234bd7acb904f312d48b4f",
       "version_major": 2,
       "version_minor": 0
      },
      "text/plain": [
       "嵌套MC(t=5):   0%|          | 0/4000 [00:00<?, ?it/s]"
      ]
     },
     "metadata": {},
     "output_type": "display_data"
    },
    {
     "data": {
      "application/vnd.jupyter.widget-view+json": {
       "model_id": "40b0a5f1e2ce44fc921c803c58c483e9",
       "version_major": 2,
       "version_minor": 0
      },
      "text/plain": [
       "Training step 5:   0%|          | 0/1501 [00:00<?, ?it/s]"
      ]
     },
     "metadata": {},
     "output_type": "display_data"
    },
    {
     "data": {
      "application/vnd.jupyter.widget-view+json": {
       "model_id": "b9019581cde44ae9abae0a585ce558a2",
       "version_major": 2,
       "version_minor": 0
      },
      "text/plain": [
       "嵌套MC(t=4):   0%|          | 0/4000 [00:00<?, ?it/s]"
      ]
     },
     "metadata": {},
     "output_type": "display_data"
    },
    {
     "data": {
      "application/vnd.jupyter.widget-view+json": {
       "model_id": "9695722c159348b7aa709700c9f8caf4",
       "version_major": 2,
       "version_minor": 0
      },
      "text/plain": [
       "Training step 4:   0%|          | 0/1501 [00:00<?, ?it/s]"
      ]
     },
     "metadata": {},
     "output_type": "display_data"
    },
    {
     "data": {
      "application/vnd.jupyter.widget-view+json": {
       "model_id": "a731c7cfc9644b0e8ca3624dfeb2716f",
       "version_major": 2,
       "version_minor": 0
      },
      "text/plain": [
       "嵌套MC(t=3):   0%|          | 0/4000 [00:00<?, ?it/s]"
      ]
     },
     "metadata": {},
     "output_type": "display_data"
    },
    {
     "data": {
      "application/vnd.jupyter.widget-view+json": {
       "model_id": "b91622e34b424cb4b40e05d13216ae5a",
       "version_major": 2,
       "version_minor": 0
      },
      "text/plain": [
       "Training step 3:   0%|          | 0/1501 [00:00<?, ?it/s]"
      ]
     },
     "metadata": {},
     "output_type": "display_data"
    },
    {
     "data": {
      "application/vnd.jupyter.widget-view+json": {
       "model_id": "73f0eab4caf04bcca42550b88991ffa8",
       "version_major": 2,
       "version_minor": 0
      },
      "text/plain": [
       "嵌套MC(t=2):   0%|          | 0/4000 [00:00<?, ?it/s]"
      ]
     },
     "metadata": {},
     "output_type": "display_data"
    },
    {
     "data": {
      "application/vnd.jupyter.widget-view+json": {
       "model_id": "fedd19e4383344298af18cebc00c2322",
       "version_major": 2,
       "version_minor": 0
      },
      "text/plain": [
       "Training step 2:   0%|          | 0/1501 [00:00<?, ?it/s]"
      ]
     },
     "metadata": {},
     "output_type": "display_data"
    },
    {
     "data": {
      "application/vnd.jupyter.widget-view+json": {
       "model_id": "e66fab57711748679870bb6a68e052ef",
       "version_major": 2,
       "version_minor": 0
      },
      "text/plain": [
       "嵌套MC(t=1):   0%|          | 0/4000 [00:00<?, ?it/s]"
      ]
     },
     "metadata": {},
     "output_type": "display_data"
    },
    {
     "data": {
      "application/vnd.jupyter.widget-view+json": {
       "model_id": "28347ca89471432f9a487b5d46b815fb",
       "version_major": 2,
       "version_minor": 0
      },
      "text/plain": [
       "Training step 1:   0%|          | 0/1501 [00:00<?, ?it/s]"
      ]
     },
     "metadata": {},
     "output_type": "display_data"
    },
    {
     "data": {
      "application/vnd.jupyter.widget-view+json": {
       "model_id": "faf88192adea4271a52089aa825c6f75",
       "version_major": 2,
       "version_minor": 0
      },
      "text/plain": [
       "嵌套MC(t=0):   0%|          | 0/4000 [00:00<?, ?it/s]"
      ]
     },
     "metadata": {},
     "output_type": "display_data"
    },
    {
     "data": {
      "application/vnd.jupyter.widget-view+json": {
       "model_id": "a879e63bba334455b99fedadec15b50a",
       "version_major": 2,
       "version_minor": 0
      },
      "text/plain": [
       "Training step 0:   0%|          | 0/1501 [00:00<?, ?it/s]"
      ]
     },
     "metadata": {},
     "output_type": "display_data"
    },
    {
     "name": "stdout",
     "output_type": "stream",
     "text": [
      "计算下界...\n"
     ]
    },
    {
     "data": {
      "application/vnd.jupyter.widget-view+json": {
       "model_id": "c89adf7c91614161818e57e317db5059",
       "version_major": 2,
       "version_minor": 0
      },
      "text/plain": [
       "生成Black-Scholes路径:   0%|          | 0/9 [00:00<?, ?it/s]"
      ]
     },
     "metadata": {},
     "output_type": "display_data"
    },
    {
     "name": "stdout",
     "output_type": "stream",
     "text": [
      "Lower bound: 7.824 (7.757, 7.892)\n",
      "计算上界...\n"
     ]
    },
    {
     "data": {
      "application/vnd.jupyter.widget-view+json": {
       "model_id": "871314146ebd4b36aa5965fa8437fa38",
       "version_major": 2,
       "version_minor": 0
      },
      "text/plain": [
       "生成Black-Scholes路径:   0%|          | 0/9 [00:00<?, ?it/s]"
      ]
     },
     "metadata": {},
     "output_type": "display_data"
    },
    {
     "name": "stdout",
     "output_type": "stream",
     "text": [
      "平均行权时间: 6.62 (步数), 对应时间: 2.21 年\n"
     ]
    },
    {
     "data": {
      "application/vnd.jupyter.widget-view+json": {
       "model_id": "6901e326ff804882b80a0bfe6e4d2b11",
       "version_major": 2,
       "version_minor": 0
      },
      "text/plain": [
       "Building Martingale:   0%|          | 0/9 [00:00<?, ?it/s]"
      ]
     },
     "metadata": {},
     "output_type": "display_data"
    },
    {
     "name": "stdout",
     "output_type": "stream",
     "text": [
      "时间步 1: 平均立即收益 = 0.0000, 平均继续价值 = 7.8652, ΔM均值 = 0.0000\n",
      "时间步 2: 平均立即收益 = 3.8108, 平均继续价值 = 7.7756, ΔM均值 = 1.4420\n",
      "时间步 3: 平均立即收益 = 4.8402, 平均继续价值 = 7.7643, ΔM均值 = 1.6415\n",
      "时间步 4: 平均立即收益 = 5.2732, 平均继续价值 = 7.4187, ΔM均值 = 1.4504\n",
      "时间步 5: 平均立即收益 = 5.6564, 平均继续价值 = 6.9564, ΔM均值 = 1.6513\n",
      "时间步 6: 平均立即收益 = 5.9349, 平均继续价值 = 5.9997, ΔM均值 = 1.6196\n",
      "时间步 7: 平均立即收益 = 5.3541, 平均继续价值 = 5.5599, ΔM均值 = 1.5664\n",
      "时间步 8: 平均立即收益 = 5.3882, 平均继续价值 = 5.4998, ΔM均值 = 1.5890\n",
      "时间步 9: 平均立即收益 = 5.7341, 平均继续价值 = 5.7404, ΔM均值 = 1.7247\n",
      "\n",
      "Bermudan实验结果:\n",
      "Lower bound: 7.824 (7.757, 7.892)\n",
      "Upper bound: 9.793 (9.167, 10.420)\n",
      "95% Confidence Interval: [7.757, 10.420]\n",
      "Point Estimate: 8.809\n"
     ]
    }
   ],
   "source": [
    "def run_Bermudan_experiment():\n",
    "    \"\"\"Bermudan实验 对应论文表1/2 \"\"\"\n",
    "    params = {\n",
    "        \"d\": 1,\n",
    "        \"steps\": 9,\n",
    "        \"T\": 3.0,\n",
    "        \"r\": 0.05,\n",
    "        \"sigma\": 0.2,\n",
    "        \"rho\": 0.0,\n",
    "        \"div\": 0.1\n",
    "    }\n",
    "    \n",
    "    # 初始化生成器和训练器\n",
    "    bs_gen = BlackScholesGenerator(**params)\n",
    "    print(\"BlackScholesGenerator steps:\", bs_gen.steps)\n",
    "    trainer = BermudanMaxCallTrainer(bs_gen, hidden_dim=40+params[\"d\"])\n",
    "    \n",
    "    # 训练（3000步，每批8192条路径）\n",
    "    print(\"开始训练...\")\n",
    "    trainer.train(n_paths=4000, epochs=1500+params[\"d\"],batch_size=2048)#8192,3000\n",
    "    \n",
    "    # 计算上下界\n",
    "    print(\"计算下界...\")\n",
    "    lb_result = trainer.compute_lower_bound(n_paths=100000)#4096000\n",
    "    print(f\"Lower bound: {lb_result['estimate']:.3f} ({lb_result['lower']:.3f}, {lb_result['upper']:.3f})\")\n",
    "    print(\"计算上界...\")\n",
    "    ub_result = trainer.compute_upper_bound(n_paths=1024, J=5000) #1024，16384\n",
    "    \n",
    "    # 输出结果\n",
    "    print(f\"\\nBermudan实验结果:\")\n",
    "    print(f\"Lower bound: {lb_result['estimate']:.3f} ({lb_result['lower']:.3f}, {lb_result['upper']:.3f})\")\n",
    "    print(f\"Upper bound: {ub_result['estimate']:.3f} ({ub_result['lower']:.3f}, {ub_result['upper']:.3f})\")\n",
    "    print(f\"95% Confidence Interval: [{lb_result['lower']:.3f}, {ub_result['upper']:.3f}]\")\n",
    "    print(f\"Point Estimate: {(lb_result['estimate'] + ub_result['estimate'])/2:.3f}\")\n",
    "print(\"========= Bermudan实验 =========\")\n",
    "run_Bermudan_experiment()"
   ]
  },
  {
   "cell_type": "code",
   "execution_count": 19,
   "metadata": {},
   "outputs": [
    {
     "name": "stdout",
     "output_type": "stream",
     "text": [
      "========= Bermudan实验 =========\n",
      "BlackScholesGenerator steps: 9\n",
      "开始训练...\n"
     ]
    },
    {
     "data": {
      "application/vnd.jupyter.widget-view+json": {
       "model_id": "ccd59785d61249d5a271ceeabfc6e5d6",
       "version_major": 2,
       "version_minor": 0
      },
      "text/plain": [
       "生成Black-Scholes路径:   0%|          | 0/9 [00:00<?, ?it/s]"
      ]
     },
     "metadata": {},
     "output_type": "display_data"
    },
    {
     "data": {
      "application/vnd.jupyter.widget-view+json": {
       "model_id": "0c848eb4093d4ff29c468f61a6507907",
       "version_major": 2,
       "version_minor": 0
      },
      "text/plain": [
       "Training steps: 0it [00:00, ?it/s]"
      ]
     },
     "metadata": {},
     "output_type": "display_data"
    },
    {
     "data": {
      "application/vnd.jupyter.widget-view+json": {
       "model_id": "646d042fd14040cba659146ec18b3841",
       "version_major": 2,
       "version_minor": 0
      },
      "text/plain": [
       "嵌套MC(t=8):   0%|          | 0/4000 [00:00<?, ?it/s]"
      ]
     },
     "metadata": {},
     "output_type": "display_data"
    },
    {
     "data": {
      "application/vnd.jupyter.widget-view+json": {
       "model_id": "73051e8d1398448aab538942b414213b",
       "version_major": 2,
       "version_minor": 0
      },
      "text/plain": [
       "Training step 8:   0%|          | 0/1520 [00:00<?, ?it/s]"
      ]
     },
     "metadata": {},
     "output_type": "display_data"
    },
    {
     "data": {
      "application/vnd.jupyter.widget-view+json": {
       "model_id": "d55f12f60be640cab31831c36fb94c0f",
       "version_major": 2,
       "version_minor": 0
      },
      "text/plain": [
       "嵌套MC(t=7):   0%|          | 0/4000 [00:00<?, ?it/s]"
      ]
     },
     "metadata": {},
     "output_type": "display_data"
    },
    {
     "data": {
      "application/vnd.jupyter.widget-view+json": {
       "model_id": "9046d5fa7f6c4d64a305822bd5386813",
       "version_major": 2,
       "version_minor": 0
      },
      "text/plain": [
       "Training step 7:   0%|          | 0/1520 [00:00<?, ?it/s]"
      ]
     },
     "metadata": {},
     "output_type": "display_data"
    },
    {
     "data": {
      "application/vnd.jupyter.widget-view+json": {
       "model_id": "4ad7eabf16eb4d76814e2a40c418b5cf",
       "version_major": 2,
       "version_minor": 0
      },
      "text/plain": [
       "嵌套MC(t=6):   0%|          | 0/4000 [00:00<?, ?it/s]"
      ]
     },
     "metadata": {},
     "output_type": "display_data"
    },
    {
     "data": {
      "application/vnd.jupyter.widget-view+json": {
       "model_id": "f03c946b65d24aaab3b74ff94a5b3886",
       "version_major": 2,
       "version_minor": 0
      },
      "text/plain": [
       "Training step 6:   0%|          | 0/1520 [00:00<?, ?it/s]"
      ]
     },
     "metadata": {},
     "output_type": "display_data"
    },
    {
     "data": {
      "application/vnd.jupyter.widget-view+json": {
       "model_id": "9e9937b0533e433884744def9ce789ed",
       "version_major": 2,
       "version_minor": 0
      },
      "text/plain": [
       "嵌套MC(t=5):   0%|          | 0/4000 [00:00<?, ?it/s]"
      ]
     },
     "metadata": {},
     "output_type": "display_data"
    },
    {
     "data": {
      "application/vnd.jupyter.widget-view+json": {
       "model_id": "5fcb1e2ce7c547fe8d88b4b859a4e119",
       "version_major": 2,
       "version_minor": 0
      },
      "text/plain": [
       "Training step 5:   0%|          | 0/1520 [00:00<?, ?it/s]"
      ]
     },
     "metadata": {},
     "output_type": "display_data"
    },
    {
     "data": {
      "application/vnd.jupyter.widget-view+json": {
       "model_id": "0f2dc30bf4164e2aad6efc4d66f35e35",
       "version_major": 2,
       "version_minor": 0
      },
      "text/plain": [
       "嵌套MC(t=4):   0%|          | 0/4000 [00:00<?, ?it/s]"
      ]
     },
     "metadata": {},
     "output_type": "display_data"
    },
    {
     "data": {
      "application/vnd.jupyter.widget-view+json": {
       "model_id": "66eb183751404c52bd17bdd2e907a5e5",
       "version_major": 2,
       "version_minor": 0
      },
      "text/plain": [
       "Training step 4:   0%|          | 0/1520 [00:00<?, ?it/s]"
      ]
     },
     "metadata": {},
     "output_type": "display_data"
    },
    {
     "data": {
      "application/vnd.jupyter.widget-view+json": {
       "model_id": "1aff2b3685e64a80b6801d540c4cbf56",
       "version_major": 2,
       "version_minor": 0
      },
      "text/plain": [
       "嵌套MC(t=3):   0%|          | 0/4000 [00:00<?, ?it/s]"
      ]
     },
     "metadata": {},
     "output_type": "display_data"
    },
    {
     "data": {
      "application/vnd.jupyter.widget-view+json": {
       "model_id": "9929a2e834274e3cba2d0e02604f944d",
       "version_major": 2,
       "version_minor": 0
      },
      "text/plain": [
       "Training step 3:   0%|          | 0/1520 [00:00<?, ?it/s]"
      ]
     },
     "metadata": {},
     "output_type": "display_data"
    },
    {
     "data": {
      "application/vnd.jupyter.widget-view+json": {
       "model_id": "a307b95a4f6e470096f3a1ca962d1a2b",
       "version_major": 2,
       "version_minor": 0
      },
      "text/plain": [
       "嵌套MC(t=2):   0%|          | 0/4000 [00:00<?, ?it/s]"
      ]
     },
     "metadata": {},
     "output_type": "display_data"
    },
    {
     "data": {
      "application/vnd.jupyter.widget-view+json": {
       "model_id": "3b0c3bd811494bd49dadb4b1717a9180",
       "version_major": 2,
       "version_minor": 0
      },
      "text/plain": [
       "Training step 2:   0%|          | 0/1520 [00:00<?, ?it/s]"
      ]
     },
     "metadata": {},
     "output_type": "display_data"
    },
    {
     "data": {
      "application/vnd.jupyter.widget-view+json": {
       "model_id": "caf8d95539d44fbab7d0cbce86057131",
       "version_major": 2,
       "version_minor": 0
      },
      "text/plain": [
       "嵌套MC(t=1):   0%|          | 0/4000 [00:00<?, ?it/s]"
      ]
     },
     "metadata": {},
     "output_type": "display_data"
    },
    {
     "data": {
      "application/vnd.jupyter.widget-view+json": {
       "model_id": "feacc00a518c4f3c8f7ec7bed901705e",
       "version_major": 2,
       "version_minor": 0
      },
      "text/plain": [
       "Training step 1:   0%|          | 0/1520 [00:00<?, ?it/s]"
      ]
     },
     "metadata": {},
     "output_type": "display_data"
    },
    {
     "data": {
      "application/vnd.jupyter.widget-view+json": {
       "model_id": "cfe4e77faa234d329a828cf717bcc40c",
       "version_major": 2,
       "version_minor": 0
      },
      "text/plain": [
       "嵌套MC(t=0):   0%|          | 0/4000 [00:00<?, ?it/s]"
      ]
     },
     "metadata": {},
     "output_type": "display_data"
    },
    {
     "data": {
      "application/vnd.jupyter.widget-view+json": {
       "model_id": "414d90b38f034d01bf4a1e3ec7c50d48",
       "version_major": 2,
       "version_minor": 0
      },
      "text/plain": [
       "Training step 0:   0%|          | 0/1520 [00:00<?, ?it/s]"
      ]
     },
     "metadata": {},
     "output_type": "display_data"
    },
    {
     "name": "stdout",
     "output_type": "stream",
     "text": [
      "计算下界...\n"
     ]
    },
    {
     "data": {
      "application/vnd.jupyter.widget-view+json": {
       "model_id": "5a116fe84a6340f282b79fae830420d7",
       "version_major": 2,
       "version_minor": 0
      },
      "text/plain": [
       "生成Black-Scholes路径:   0%|          | 0/9 [00:00<?, ?it/s]"
      ]
     },
     "metadata": {},
     "output_type": "display_data"
    },
    {
     "name": "stdout",
     "output_type": "stream",
     "text": [
      "Lower bound: 50.325 (50.170, 50.480)\n",
      "计算上界...\n"
     ]
    },
    {
     "data": {
      "application/vnd.jupyter.widget-view+json": {
       "model_id": "b471efa747294b249da9b3e779459e38",
       "version_major": 2,
       "version_minor": 0
      },
      "text/plain": [
       "生成Black-Scholes路径:   0%|          | 0/9 [00:00<?, ?it/s]"
      ]
     },
     "metadata": {},
     "output_type": "display_data"
    },
    {
     "name": "stdout",
     "output_type": "stream",
     "text": [
      "平均行权时间: 8.56 (步数), 对应时间: 2.85 年\n"
     ]
    },
    {
     "data": {
      "application/vnd.jupyter.widget-view+json": {
       "model_id": "19e7b43e4ae34b74baa80df0bb3a4b50",
       "version_major": 2,
       "version_minor": 0
      },
      "text/plain": [
       "Building Martingale:   0%|          | 0/9 [00:00<?, ?it/s]"
      ]
     },
     "metadata": {},
     "output_type": "display_data"
    },
    {
     "name": "stdout",
     "output_type": "stream",
     "text": [
      "时间步 1: 平均立即收益 = 0.0000, 平均继续价值 = 50.4529, ΔM均值 = 0.0000\n",
      "时间步 2: 平均立即收益 = 20.8167, 平均继续价值 = 51.1184, ΔM均值 = 0.0094\n",
      "时间步 3: 平均立即收益 = 29.0222, 平均继续价值 = 51.6073, ΔM均值 = 0.1913\n",
      "时间步 4: 平均立即收益 = 34.8305, 平均继续价值 = 52.0482, ΔM均值 = 0.5986\n",
      "时间步 5: 平均立即收益 = 38.8555, 平均继续价值 = 51.0863, ΔM均值 = 1.3060\n",
      "时间步 6: 平均立即收益 = 41.8050, 平均继续价值 = 49.3784, ΔM均值 = 2.0351\n",
      "时间步 7: 平均立即收益 = 44.9085, 平均继续价值 = 49.7778, ΔM均值 = 3.7149\n",
      "时间步 8: 平均立即收益 = 46.8445, 平均继续价值 = 49.5572, ΔM均值 = 4.1594\n",
      "时间步 9: 平均立即收益 = 47.8948, 平均继续价值 = 49.2069, ΔM均值 = 4.5768\n",
      "\n",
      "Bermudan实验结果:\n",
      "Lower bound: 50.325 (50.170, 50.480)\n",
      "Upper bound: 57.455 (56.457, 58.452)\n",
      "95% Confidence Interval: [50.170, 58.452]\n",
      "Point Estimate: 53.890\n"
     ]
    }
   ],
   "source": [
    "def run_Bermudan_experiment():\n",
    "    \"\"\"Bermudan实验 对应论文表1/2 \"\"\"\n",
    "    params = {\n",
    "        \"d\": 20,\n",
    "        \"steps\": 9,\n",
    "        \"T\": 3.0,\n",
    "        \"r\": 0.05,\n",
    "        \"sigma\": 0.2,\n",
    "        \"rho\": 0.0,\n",
    "        \"div\": 0.1\n",
    "    }\n",
    "    \n",
    "    # 初始化生成器和训练器\n",
    "    bs_gen = BlackScholesGenerator(**params)\n",
    "    print(\"BlackScholesGenerator steps:\", bs_gen.steps)\n",
    "    trainer = BermudanMaxCallTrainer(bs_gen, hidden_dim=40+params[\"d\"])\n",
    "    \n",
    "    # 训练（3000步，每批8192条路径）\n",
    "    print(\"开始训练...\")\n",
    "    trainer.train(n_paths=4000, epochs=1500+params[\"d\"],batch_size=2048)#8192,3000\n",
    "    \n",
    "    # 计算上下界\n",
    "    print(\"计算下界...\")\n",
    "    lb_result = trainer.compute_lower_bound(n_paths=100000)#4096000\n",
    "    print(f\"Lower bound: {lb_result['estimate']:.3f} ({lb_result['lower']:.3f}, {lb_result['upper']:.3f})\")\n",
    "    print(\"计算上界...\")\n",
    "    ub_result = trainer.compute_upper_bound(n_paths=1024, J=5000) #1024，16384\n",
    "    \n",
    "    # 输出结果\n",
    "    print(f\"\\nBermudan实验结果:\")\n",
    "    print(f\"Lower bound: {lb_result['estimate']:.3f} ({lb_result['lower']:.3f}, {lb_result['upper']:.3f})\")\n",
    "    print(f\"Upper bound: {ub_result['estimate']:.3f} ({ub_result['lower']:.3f}, {ub_result['upper']:.3f})\")\n",
    "    print(f\"95% Confidence Interval: [{lb_result['lower']:.3f}, {ub_result['upper']:.3f}]\")\n",
    "    print(f\"Point Estimate: {(lb_result['estimate'] + ub_result['estimate'])/2:.3f}\")\n",
    "\n",
    "print(\"========= Bermudan实验 =========\")\n",
    "run_Bermudan_experiment()"
   ]
  },
  {
   "cell_type": "code",
   "execution_count": 20,
   "metadata": {},
   "outputs": [
    {
     "name": "stdout",
     "output_type": "stream",
     "text": [
      "========= Bermudan实验 =========\n",
      "BlackScholesGenerator steps: 9\n",
      "开始训练...\n"
     ]
    },
    {
     "data": {
      "application/vnd.jupyter.widget-view+json": {
       "model_id": "60b01dc151f740de9d1c02cbbfdc09ad",
       "version_major": 2,
       "version_minor": 0
      },
      "text/plain": [
       "生成Black-Scholes路径:   0%|          | 0/9 [00:00<?, ?it/s]"
      ]
     },
     "metadata": {},
     "output_type": "display_data"
    },
    {
     "data": {
      "application/vnd.jupyter.widget-view+json": {
       "model_id": "933f463a46604873884bc6a640eb3bb4",
       "version_major": 2,
       "version_minor": 0
      },
      "text/plain": [
       "Training steps: 0it [00:00, ?it/s]"
      ]
     },
     "metadata": {},
     "output_type": "display_data"
    },
    {
     "data": {
      "application/vnd.jupyter.widget-view+json": {
       "model_id": "882061b0c6a645bbbbc74a0197396ec5",
       "version_major": 2,
       "version_minor": 0
      },
      "text/plain": [
       "嵌套MC(t=8):   0%|          | 0/4000 [00:00<?, ?it/s]"
      ]
     },
     "metadata": {},
     "output_type": "display_data"
    },
    {
     "data": {
      "application/vnd.jupyter.widget-view+json": {
       "model_id": "5c70d65702d44f3d986453011ed38c98",
       "version_major": 2,
       "version_minor": 0
      },
      "text/plain": [
       "Training step 8:   0%|          | 0/1530 [00:00<?, ?it/s]"
      ]
     },
     "metadata": {},
     "output_type": "display_data"
    },
    {
     "data": {
      "application/vnd.jupyter.widget-view+json": {
       "model_id": "4df119d7e4524c53b65cec86242489d2",
       "version_major": 2,
       "version_minor": 0
      },
      "text/plain": [
       "嵌套MC(t=7):   0%|          | 0/4000 [00:00<?, ?it/s]"
      ]
     },
     "metadata": {},
     "output_type": "display_data"
    },
    {
     "data": {
      "application/vnd.jupyter.widget-view+json": {
       "model_id": "d336b95dd03a4c49819eca648376474b",
       "version_major": 2,
       "version_minor": 0
      },
      "text/plain": [
       "Training step 7:   0%|          | 0/1530 [00:00<?, ?it/s]"
      ]
     },
     "metadata": {},
     "output_type": "display_data"
    },
    {
     "data": {
      "application/vnd.jupyter.widget-view+json": {
       "model_id": "e6e9486753c147cca732d9eca88a2f53",
       "version_major": 2,
       "version_minor": 0
      },
      "text/plain": [
       "嵌套MC(t=6):   0%|          | 0/4000 [00:00<?, ?it/s]"
      ]
     },
     "metadata": {},
     "output_type": "display_data"
    },
    {
     "data": {
      "application/vnd.jupyter.widget-view+json": {
       "model_id": "37afd198ad314d6d8b08775583d575b3",
       "version_major": 2,
       "version_minor": 0
      },
      "text/plain": [
       "Training step 6:   0%|          | 0/1530 [00:00<?, ?it/s]"
      ]
     },
     "metadata": {},
     "output_type": "display_data"
    },
    {
     "data": {
      "application/vnd.jupyter.widget-view+json": {
       "model_id": "9f92c8fd1477444d87940f307889c608",
       "version_major": 2,
       "version_minor": 0
      },
      "text/plain": [
       "嵌套MC(t=5):   0%|          | 0/4000 [00:00<?, ?it/s]"
      ]
     },
     "metadata": {},
     "output_type": "display_data"
    },
    {
     "data": {
      "application/vnd.jupyter.widget-view+json": {
       "model_id": "cc1db750435d419694549fd9ab8a479b",
       "version_major": 2,
       "version_minor": 0
      },
      "text/plain": [
       "Training step 5:   0%|          | 0/1530 [00:00<?, ?it/s]"
      ]
     },
     "metadata": {},
     "output_type": "display_data"
    },
    {
     "data": {
      "application/vnd.jupyter.widget-view+json": {
       "model_id": "e762c86dafaf4be2b46ced779b2b9244",
       "version_major": 2,
       "version_minor": 0
      },
      "text/plain": [
       "嵌套MC(t=4):   0%|          | 0/4000 [00:00<?, ?it/s]"
      ]
     },
     "metadata": {},
     "output_type": "display_data"
    },
    {
     "data": {
      "application/vnd.jupyter.widget-view+json": {
       "model_id": "97a6e88e03a14e9baf3ee55937c1da07",
       "version_major": 2,
       "version_minor": 0
      },
      "text/plain": [
       "Training step 4:   0%|          | 0/1530 [00:00<?, ?it/s]"
      ]
     },
     "metadata": {},
     "output_type": "display_data"
    },
    {
     "data": {
      "application/vnd.jupyter.widget-view+json": {
       "model_id": "ca6268cd025c4c3088551fb77a7e655f",
       "version_major": 2,
       "version_minor": 0
      },
      "text/plain": [
       "嵌套MC(t=3):   0%|          | 0/4000 [00:00<?, ?it/s]"
      ]
     },
     "metadata": {},
     "output_type": "display_data"
    },
    {
     "data": {
      "application/vnd.jupyter.widget-view+json": {
       "model_id": "3d3928c62ebe4675bae014eb0d2219dc",
       "version_major": 2,
       "version_minor": 0
      },
      "text/plain": [
       "Training step 3:   0%|          | 0/1530 [00:00<?, ?it/s]"
      ]
     },
     "metadata": {},
     "output_type": "display_data"
    },
    {
     "data": {
      "application/vnd.jupyter.widget-view+json": {
       "model_id": "10f0056757e644d1a6cbcab46c616ede",
       "version_major": 2,
       "version_minor": 0
      },
      "text/plain": [
       "嵌套MC(t=2):   0%|          | 0/4000 [00:00<?, ?it/s]"
      ]
     },
     "metadata": {},
     "output_type": "display_data"
    },
    {
     "data": {
      "application/vnd.jupyter.widget-view+json": {
       "model_id": "d9cef229e4804eadbad35c191e9cc8d7",
       "version_major": 2,
       "version_minor": 0
      },
      "text/plain": [
       "Training step 2:   0%|          | 0/1530 [00:00<?, ?it/s]"
      ]
     },
     "metadata": {},
     "output_type": "display_data"
    },
    {
     "data": {
      "application/vnd.jupyter.widget-view+json": {
       "model_id": "1f44b7211d3d431ab279ddbab99fc097",
       "version_major": 2,
       "version_minor": 0
      },
      "text/plain": [
       "嵌套MC(t=1):   0%|          | 0/4000 [00:00<?, ?it/s]"
      ]
     },
     "metadata": {},
     "output_type": "display_data"
    },
    {
     "data": {
      "application/vnd.jupyter.widget-view+json": {
       "model_id": "8bfc8bf0daf34e1cb085440308a0bd7f",
       "version_major": 2,
       "version_minor": 0
      },
      "text/plain": [
       "Training step 1:   0%|          | 0/1530 [00:00<?, ?it/s]"
      ]
     },
     "metadata": {},
     "output_type": "display_data"
    },
    {
     "data": {
      "application/vnd.jupyter.widget-view+json": {
       "model_id": "f54c2924273d4be48d00d992227aa780",
       "version_major": 2,
       "version_minor": 0
      },
      "text/plain": [
       "嵌套MC(t=0):   0%|          | 0/4000 [00:00<?, ?it/s]"
      ]
     },
     "metadata": {},
     "output_type": "display_data"
    },
    {
     "data": {
      "application/vnd.jupyter.widget-view+json": {
       "model_id": "d3ccf17a78f44a6a8e359e6eb59d3d4f",
       "version_major": 2,
       "version_minor": 0
      },
      "text/plain": [
       "Training step 0:   0%|          | 0/1530 [00:00<?, ?it/s]"
      ]
     },
     "metadata": {},
     "output_type": "display_data"
    },
    {
     "name": "stdout",
     "output_type": "stream",
     "text": [
      "计算下界...\n"
     ]
    },
    {
     "data": {
      "application/vnd.jupyter.widget-view+json": {
       "model_id": "a64b5d32c06441159f8c87e76cf9e96e",
       "version_major": 2,
       "version_minor": 0
      },
      "text/plain": [
       "生成Black-Scholes路径:   0%|          | 0/9 [00:00<?, ?it/s]"
      ]
     },
     "metadata": {},
     "output_type": "display_data"
    },
    {
     "name": "stdout",
     "output_type": "stream",
     "text": [
      "Lower bound: 58.348 (58.189, 58.508)\n",
      "计算上界...\n"
     ]
    },
    {
     "data": {
      "application/vnd.jupyter.widget-view+json": {
       "model_id": "f747654c0984475ca440c351cd6296e2",
       "version_major": 2,
       "version_minor": 0
      },
      "text/plain": [
       "生成Black-Scholes路径:   0%|          | 0/9 [00:00<?, ?it/s]"
      ]
     },
     "metadata": {},
     "output_type": "display_data"
    },
    {
     "name": "stdout",
     "output_type": "stream",
     "text": [
      "平均行权时间: 8.72 (步数), 对应时间: 2.91 年\n"
     ]
    },
    {
     "data": {
      "application/vnd.jupyter.widget-view+json": {
       "model_id": "fde2161d6a034699892b90ab964ec666",
       "version_major": 2,
       "version_minor": 0
      },
      "text/plain": [
       "Building Martingale:   0%|          | 0/9 [00:00<?, ?it/s]"
      ]
     },
     "metadata": {},
     "output_type": "display_data"
    },
    {
     "name": "stdout",
     "output_type": "stream",
     "text": [
      "时间步 1: 平均立即收益 = 0.0000, 平均继续价值 = 58.2838, ΔM均值 = 0.0000\n",
      "时间步 2: 平均立即收益 = 23.2255, 平均继续价值 = 58.5525, ΔM均值 = 0.0000\n",
      "时间步 3: 平均立即收益 = 32.9748, 平均继续价值 = 58.8152, ΔM均值 = 0.1532\n",
      "时间步 4: 平均立即收益 = 39.1718, 平均继续价值 = 58.9022, ΔM均值 = 0.5291\n",
      "时间步 5: 平均立即收益 = 44.5898, 平均继续价值 = 58.7401, ΔM均值 = 1.2707\n",
      "时间步 6: 平均立即收益 = 48.6115, 平均继续价值 = 58.0519, ΔM均值 = 2.2519\n",
      "时间步 7: 平均立即收益 = 52.1661, 平均继续价值 = 58.2606, ΔM均值 = 3.3211\n",
      "时间步 8: 平均立即收益 = 53.7081, 平均继续价值 = 57.6177, ΔM均值 = 3.5844\n",
      "时间步 9: 平均立即收益 = 55.7958, 平均继续价值 = 57.6323, ΔM均值 = 4.8944\n",
      "\n",
      "Bermudan实验结果:\n",
      "Lower bound: 58.348 (58.189, 58.508)\n",
      "Upper bound: 65.153 (64.104, 66.201)\n",
      "95% Confidence Interval: [58.189, 66.201]\n",
      "Point Estimate: 61.751\n"
     ]
    }
   ],
   "source": [
    "def run_Bermudan_experiment():\n",
    "    \"\"\"Bermudan实验 对应论文表1/2 \"\"\"\n",
    "    params = {\n",
    "        \"d\": 30,\n",
    "        \"steps\": 9,\n",
    "        \"T\": 3.0,\n",
    "        \"r\": 0.05,\n",
    "        \"sigma\": 0.2,\n",
    "        \"rho\": 0.0,\n",
    "        \"div\": 0.1\n",
    "    }\n",
    "    \n",
    "    # 初始化生成器和训练器\n",
    "    bs_gen = BlackScholesGenerator(**params)\n",
    "    print(\"BlackScholesGenerator steps:\", bs_gen.steps)\n",
    "    trainer = BermudanMaxCallTrainer(bs_gen, hidden_dim=40+params[\"d\"])\n",
    "    \n",
    "    # 训练（3000步，每批8192条路径）\n",
    "    print(\"开始训练...\")\n",
    "    trainer.train(n_paths=4000, epochs=1500+params[\"d\"],batch_size=2048)#8192,3000\n",
    "    \n",
    "    # 计算上下界\n",
    "    print(\"计算下界...\")\n",
    "    lb_result = trainer.compute_lower_bound(n_paths=100000)#4096000\n",
    "    print(f\"Lower bound: {lb_result['estimate']:.3f} ({lb_result['lower']:.3f}, {lb_result['upper']:.3f})\")\n",
    "    print(\"计算上界...\")\n",
    "    ub_result = trainer.compute_upper_bound(n_paths=1024, J=5000) #1024，16384\n",
    "    \n",
    "    # 输出结果\n",
    "    print(f\"\\nBermudan实验结果:\")\n",
    "    print(f\"Lower bound: {lb_result['estimate']:.3f} ({lb_result['lower']:.3f}, {lb_result['upper']:.3f})\")\n",
    "    print(f\"Upper bound: {ub_result['estimate']:.3f} ({ub_result['lower']:.3f}, {ub_result['upper']:.3f})\")\n",
    "    print(f\"95% Confidence Interval: [{lb_result['lower']:.3f}, {ub_result['upper']:.3f}]\")\n",
    "    print(f\"Point Estimate: {(lb_result['estimate'] + ub_result['estimate'])/2:.3f}\")\n",
    "\n",
    "print(\"========= Bermudan实验 =========\")\n",
    "run_Bermudan_experiment()"
   ]
  },
  {
   "cell_type": "code",
   "execution_count": 21,
   "metadata": {},
   "outputs": [
    {
     "name": "stdout",
     "output_type": "stream",
     "text": [
      "========= Bermudan实验 =========\n",
      "BlackScholesGenerator steps: 9\n",
      "开始训练...\n"
     ]
    },
    {
     "data": {
      "application/vnd.jupyter.widget-view+json": {
       "model_id": "2f92a819446a4aa9a80aa93492d77766",
       "version_major": 2,
       "version_minor": 0
      },
      "text/plain": [
       "生成Black-Scholes路径:   0%|          | 0/9 [00:00<?, ?it/s]"
      ]
     },
     "metadata": {},
     "output_type": "display_data"
    },
    {
     "data": {
      "application/vnd.jupyter.widget-view+json": {
       "model_id": "72083530d6e14f9f9bfa6d2e7582f5c3",
       "version_major": 2,
       "version_minor": 0
      },
      "text/plain": [
       "Training steps: 0it [00:00, ?it/s]"
      ]
     },
     "metadata": {},
     "output_type": "display_data"
    },
    {
     "data": {
      "application/vnd.jupyter.widget-view+json": {
       "model_id": "a04b6e01e0824c28a0173dc5eea090b8",
       "version_major": 2,
       "version_minor": 0
      },
      "text/plain": [
       "嵌套MC(t=8):   0%|          | 0/4000 [00:00<?, ?it/s]"
      ]
     },
     "metadata": {},
     "output_type": "display_data"
    },
    {
     "data": {
      "application/vnd.jupyter.widget-view+json": {
       "model_id": "e6402ca70349445383e043d76734e0d2",
       "version_major": 2,
       "version_minor": 0
      },
      "text/plain": [
       "Training step 8:   0%|          | 0/1550 [00:00<?, ?it/s]"
      ]
     },
     "metadata": {},
     "output_type": "display_data"
    },
    {
     "data": {
      "application/vnd.jupyter.widget-view+json": {
       "model_id": "507d09b3c4ab448599c4b71132a567d2",
       "version_major": 2,
       "version_minor": 0
      },
      "text/plain": [
       "嵌套MC(t=7):   0%|          | 0/4000 [00:00<?, ?it/s]"
      ]
     },
     "metadata": {},
     "output_type": "display_data"
    },
    {
     "data": {
      "application/vnd.jupyter.widget-view+json": {
       "model_id": "466433c7b605442593852c630b2b18ae",
       "version_major": 2,
       "version_minor": 0
      },
      "text/plain": [
       "Training step 7:   0%|          | 0/1550 [00:00<?, ?it/s]"
      ]
     },
     "metadata": {},
     "output_type": "display_data"
    },
    {
     "data": {
      "application/vnd.jupyter.widget-view+json": {
       "model_id": "68a34d4500d94a05839dcf4236ebadaf",
       "version_major": 2,
       "version_minor": 0
      },
      "text/plain": [
       "嵌套MC(t=6):   0%|          | 0/4000 [00:00<?, ?it/s]"
      ]
     },
     "metadata": {},
     "output_type": "display_data"
    },
    {
     "data": {
      "application/vnd.jupyter.widget-view+json": {
       "model_id": "7b32d19a42a945b684559022d55f0cf3",
       "version_major": 2,
       "version_minor": 0
      },
      "text/plain": [
       "Training step 6:   0%|          | 0/1550 [00:00<?, ?it/s]"
      ]
     },
     "metadata": {},
     "output_type": "display_data"
    },
    {
     "data": {
      "application/vnd.jupyter.widget-view+json": {
       "model_id": "60d9b4aa975d439fa701e7691345b412",
       "version_major": 2,
       "version_minor": 0
      },
      "text/plain": [
       "嵌套MC(t=5):   0%|          | 0/4000 [00:00<?, ?it/s]"
      ]
     },
     "metadata": {},
     "output_type": "display_data"
    },
    {
     "data": {
      "application/vnd.jupyter.widget-view+json": {
       "model_id": "7493d42863f5417b9fc9505a7e5edc73",
       "version_major": 2,
       "version_minor": 0
      },
      "text/plain": [
       "Training step 5:   0%|          | 0/1550 [00:00<?, ?it/s]"
      ]
     },
     "metadata": {},
     "output_type": "display_data"
    },
    {
     "data": {
      "application/vnd.jupyter.widget-view+json": {
       "model_id": "f2c1dc68453543498d2b85387f42ccc4",
       "version_major": 2,
       "version_minor": 0
      },
      "text/plain": [
       "嵌套MC(t=4):   0%|          | 0/4000 [00:00<?, ?it/s]"
      ]
     },
     "metadata": {},
     "output_type": "display_data"
    },
    {
     "data": {
      "application/vnd.jupyter.widget-view+json": {
       "model_id": "b6d0adf17d5148589a575f212da6a4c1",
       "version_major": 2,
       "version_minor": 0
      },
      "text/plain": [
       "Training step 4:   0%|          | 0/1550 [00:00<?, ?it/s]"
      ]
     },
     "metadata": {},
     "output_type": "display_data"
    },
    {
     "data": {
      "application/vnd.jupyter.widget-view+json": {
       "model_id": "722d5bf39e494892807b036f6d1aafd0",
       "version_major": 2,
       "version_minor": 0
      },
      "text/plain": [
       "嵌套MC(t=3):   0%|          | 0/4000 [00:00<?, ?it/s]"
      ]
     },
     "metadata": {},
     "output_type": "display_data"
    },
    {
     "data": {
      "application/vnd.jupyter.widget-view+json": {
       "model_id": "b02dfddb232346a8a3963d9add0d9e9e",
       "version_major": 2,
       "version_minor": 0
      },
      "text/plain": [
       "Training step 3:   0%|          | 0/1550 [00:00<?, ?it/s]"
      ]
     },
     "metadata": {},
     "output_type": "display_data"
    },
    {
     "data": {
      "application/vnd.jupyter.widget-view+json": {
       "model_id": "0ec860c03e2246198175556ee3fbabef",
       "version_major": 2,
       "version_minor": 0
      },
      "text/plain": [
       "嵌套MC(t=2):   0%|          | 0/4000 [00:00<?, ?it/s]"
      ]
     },
     "metadata": {},
     "output_type": "display_data"
    },
    {
     "data": {
      "application/vnd.jupyter.widget-view+json": {
       "model_id": "c06133cd969949349e13d08152de57b9",
       "version_major": 2,
       "version_minor": 0
      },
      "text/plain": [
       "Training step 2:   0%|          | 0/1550 [00:00<?, ?it/s]"
      ]
     },
     "metadata": {},
     "output_type": "display_data"
    },
    {
     "data": {
      "application/vnd.jupyter.widget-view+json": {
       "model_id": "5d4c1b9f0cf14e2aa60b94632c2a7483",
       "version_major": 2,
       "version_minor": 0
      },
      "text/plain": [
       "嵌套MC(t=1):   0%|          | 0/4000 [00:00<?, ?it/s]"
      ]
     },
     "metadata": {},
     "output_type": "display_data"
    },
    {
     "data": {
      "application/vnd.jupyter.widget-view+json": {
       "model_id": "a51196cd409b4bc2934058b9323e83c8",
       "version_major": 2,
       "version_minor": 0
      },
      "text/plain": [
       "Training step 1:   0%|          | 0/1550 [00:00<?, ?it/s]"
      ]
     },
     "metadata": {},
     "output_type": "display_data"
    },
    {
     "data": {
      "application/vnd.jupyter.widget-view+json": {
       "model_id": "fc87059cb6534a3093b886c65b15467f",
       "version_major": 2,
       "version_minor": 0
      },
      "text/plain": [
       "嵌套MC(t=0):   0%|          | 0/4000 [00:00<?, ?it/s]"
      ]
     },
     "metadata": {},
     "output_type": "display_data"
    },
    {
     "data": {
      "application/vnd.jupyter.widget-view+json": {
       "model_id": "9e28612c0e064668af87c69c00d01862",
       "version_major": 2,
       "version_minor": 0
      },
      "text/plain": [
       "Training step 0:   0%|          | 0/1550 [00:00<?, ?it/s]"
      ]
     },
     "metadata": {},
     "output_type": "display_data"
    },
    {
     "name": "stdout",
     "output_type": "stream",
     "text": [
      "计算下界...\n"
     ]
    },
    {
     "data": {
      "application/vnd.jupyter.widget-view+json": {
       "model_id": "edb16529accb4bfea29f2ccfe9133d1a",
       "version_major": 2,
       "version_minor": 0
      },
      "text/plain": [
       "生成Black-Scholes路径:   0%|          | 0/9 [00:00<?, ?it/s]"
      ]
     },
     "metadata": {},
     "output_type": "display_data"
    },
    {
     "name": "stdout",
     "output_type": "stream",
     "text": [
      "Lower bound: 68.285 (68.123, 68.446)\n",
      "计算上界...\n"
     ]
    },
    {
     "data": {
      "application/vnd.jupyter.widget-view+json": {
       "model_id": "552e527f7e194318a1c300315b626090",
       "version_major": 2,
       "version_minor": 0
      },
      "text/plain": [
       "生成Black-Scholes路径:   0%|          | 0/9 [00:00<?, ?it/s]"
      ]
     },
     "metadata": {},
     "output_type": "display_data"
    },
    {
     "name": "stdout",
     "output_type": "stream",
     "text": [
      "平均行权时间: 8.90 (步数), 对应时间: 2.97 年\n"
     ]
    },
    {
     "data": {
      "application/vnd.jupyter.widget-view+json": {
       "model_id": "93d52c206f9e4d318c214ff270ba7619",
       "version_major": 2,
       "version_minor": 0
      },
      "text/plain": [
       "Building Martingale:   0%|          | 0/9 [00:00<?, ?it/s]"
      ]
     },
     "metadata": {},
     "output_type": "display_data"
    },
    {
     "name": "stdout",
     "output_type": "stream",
     "text": [
      "时间步 1: 平均立即收益 = 0.0000, 平均继续价值 = 68.3374, ΔM均值 = 0.0000\n",
      "时间步 2: 平均立即收益 = 26.5566, 平均继续价值 = 68.4754, ΔM均值 = 0.0000\n",
      "时间步 3: 平均立即收益 = 37.0511, 平均继续价值 = 68.4549, ΔM均值 = 0.0686\n",
      "时间步 4: 平均立即收益 = 44.6846, 平均继续价值 = 68.3849, ΔM均值 = 0.4311\n",
      "时间步 5: 平均立即收益 = 50.7204, 平均继续价值 = 68.1646, ΔM均值 = 0.9531\n",
      "时间步 6: 平均立即收益 = 55.7072, 平均继续价值 = 67.9812, ΔM均值 = 1.9707\n",
      "时间步 7: 平均立即收益 = 60.1603, 平均继续价值 = 68.2940, ΔM均值 = 2.9694\n",
      "时间步 8: 平均立即收益 = 63.2544, 平均继续价值 = 68.1831, ΔM均值 = 3.7916\n",
      "时间步 9: 平均立即收益 = 66.4265, 平均继续价值 = 68.4692, ΔM均值 = 4.8291\n",
      "\n",
      "Bermudan实验结果:\n",
      "Lower bound: 68.285 (68.123, 68.446)\n",
      "Upper bound: 74.130 (73.063, 75.196)\n",
      "95% Confidence Interval: [68.123, 75.196]\n",
      "Point Estimate: 71.207\n"
     ]
    }
   ],
   "source": [
    "def run_Bermudan_experiment():\n",
    "    \"\"\"Bermudan实验 对应论文表1/2 \"\"\"\n",
    "    params = {\n",
    "        \"d\": 50,\n",
    "        \"steps\": 9,\n",
    "        \"T\": 3.0,\n",
    "        \"r\": 0.05,\n",
    "        \"sigma\": 0.2,\n",
    "        \"rho\": 0.0,\n",
    "        \"div\": 0.1\n",
    "    }\n",
    "    \n",
    "    # 初始化生成器和训练器\n",
    "    bs_gen = BlackScholesGenerator(**params)\n",
    "    print(\"BlackScholesGenerator steps:\", bs_gen.steps)\n",
    "    trainer = BermudanMaxCallTrainer(bs_gen, hidden_dim=40+params[\"d\"])\n",
    "    \n",
    "    # 训练（3000步，每批8192条路径）\n",
    "    print(\"开始训练...\")\n",
    "    trainer.train(n_paths=4000, epochs=1500+params[\"d\"],batch_size=2048)#8192,3000\n",
    "    \n",
    "    # 计算上下界\n",
    "    print(\"计算下界...\")\n",
    "    lb_result = trainer.compute_lower_bound(n_paths=100000)#4096000\n",
    "    print(f\"Lower bound: {lb_result['estimate']:.3f} ({lb_result['lower']:.3f}, {lb_result['upper']:.3f})\")\n",
    "    print(\"计算上界...\")\n",
    "    ub_result = trainer.compute_upper_bound(n_paths=1024, J=5000) #1024，16384\n",
    "    \n",
    "    # 输出结果\n",
    "    print(f\"\\nBermudan实验结果:\")\n",
    "    print(f\"Lower bound: {lb_result['estimate']:.3f} ({lb_result['lower']:.3f}, {lb_result['upper']:.3f})\")\n",
    "    print(f\"Upper bound: {ub_result['estimate']:.3f} ({ub_result['lower']:.3f}, {ub_result['upper']:.3f})\")\n",
    "    print(f\"95% Confidence Interval: [{lb_result['lower']:.3f}, {ub_result['upper']:.3f}]\")\n",
    "    print(f\"Point Estimate: {(lb_result['estimate'] + ub_result['estimate'])/2:.3f}\")\n",
    "\n",
    "print(\"========= Bermudan实验 =========\")\n",
    "run_Bermudan_experiment()"
   ]
  },
  {
   "cell_type": "code",
   "execution_count": 22,
   "metadata": {},
   "outputs": [
    {
     "name": "stdout",
     "output_type": "stream",
     "text": [
      "========= Bermudan实验 =========\n",
      "BlackScholesGenerator steps: 9\n",
      "开始训练...\n"
     ]
    },
    {
     "data": {
      "application/vnd.jupyter.widget-view+json": {
       "model_id": "95ce891894564885b6e6b94dd3ec0dcb",
       "version_major": 2,
       "version_minor": 0
      },
      "text/plain": [
       "生成Black-Scholes路径:   0%|          | 0/9 [00:00<?, ?it/s]"
      ]
     },
     "metadata": {},
     "output_type": "display_data"
    },
    {
     "data": {
      "application/vnd.jupyter.widget-view+json": {
       "model_id": "4823a621b9fb420ca51df9fa2152fed6",
       "version_major": 2,
       "version_minor": 0
      },
      "text/plain": [
       "Training steps: 0it [00:00, ?it/s]"
      ]
     },
     "metadata": {},
     "output_type": "display_data"
    },
    {
     "data": {
      "application/vnd.jupyter.widget-view+json": {
       "model_id": "376cb4392ae042febcfd6b527243d992",
       "version_major": 2,
       "version_minor": 0
      },
      "text/plain": [
       "嵌套MC(t=8):   0%|          | 0/4000 [00:00<?, ?it/s]"
      ]
     },
     "metadata": {},
     "output_type": "display_data"
    },
    {
     "data": {
      "application/vnd.jupyter.widget-view+json": {
       "model_id": "d9217b7eb0f04acf9edc38711e5bd2cc",
       "version_major": 2,
       "version_minor": 0
      },
      "text/plain": [
       "Training step 8:   0%|          | 0/1600 [00:00<?, ?it/s]"
      ]
     },
     "metadata": {},
     "output_type": "display_data"
    },
    {
     "data": {
      "application/vnd.jupyter.widget-view+json": {
       "model_id": "f9af13b8e03c49a990b545b77d6e5f44",
       "version_major": 2,
       "version_minor": 0
      },
      "text/plain": [
       "嵌套MC(t=7):   0%|          | 0/4000 [00:00<?, ?it/s]"
      ]
     },
     "metadata": {},
     "output_type": "display_data"
    },
    {
     "data": {
      "application/vnd.jupyter.widget-view+json": {
       "model_id": "459ce7c7bafc480d8e6822b9034fb5f3",
       "version_major": 2,
       "version_minor": 0
      },
      "text/plain": [
       "Training step 7:   0%|          | 0/1600 [00:00<?, ?it/s]"
      ]
     },
     "metadata": {},
     "output_type": "display_data"
    },
    {
     "data": {
      "application/vnd.jupyter.widget-view+json": {
       "model_id": "36edf098a186449d880143475cc88cc1",
       "version_major": 2,
       "version_minor": 0
      },
      "text/plain": [
       "嵌套MC(t=6):   0%|          | 0/4000 [00:00<?, ?it/s]"
      ]
     },
     "metadata": {},
     "output_type": "display_data"
    },
    {
     "data": {
      "application/vnd.jupyter.widget-view+json": {
       "model_id": "6599fb4ba78e43c390ccb95fb6009be6",
       "version_major": 2,
       "version_minor": 0
      },
      "text/plain": [
       "Training step 6:   0%|          | 0/1600 [00:00<?, ?it/s]"
      ]
     },
     "metadata": {},
     "output_type": "display_data"
    },
    {
     "data": {
      "application/vnd.jupyter.widget-view+json": {
       "model_id": "1fe5cc4762cc4be4a5d46a27a0847025",
       "version_major": 2,
       "version_minor": 0
      },
      "text/plain": [
       "嵌套MC(t=5):   0%|          | 0/4000 [00:00<?, ?it/s]"
      ]
     },
     "metadata": {},
     "output_type": "display_data"
    },
    {
     "data": {
      "application/vnd.jupyter.widget-view+json": {
       "model_id": "a4abfdbf25724d4d992fae5865f96710",
       "version_major": 2,
       "version_minor": 0
      },
      "text/plain": [
       "Training step 5:   0%|          | 0/1600 [00:00<?, ?it/s]"
      ]
     },
     "metadata": {},
     "output_type": "display_data"
    },
    {
     "data": {
      "application/vnd.jupyter.widget-view+json": {
       "model_id": "e5d7d87d7dcf452bba3e61037168c0ff",
       "version_major": 2,
       "version_minor": 0
      },
      "text/plain": [
       "嵌套MC(t=4):   0%|          | 0/4000 [00:00<?, ?it/s]"
      ]
     },
     "metadata": {},
     "output_type": "display_data"
    },
    {
     "data": {
      "application/vnd.jupyter.widget-view+json": {
       "model_id": "51470d13800543d19fed5b962a9db23f",
       "version_major": 2,
       "version_minor": 0
      },
      "text/plain": [
       "Training step 4:   0%|          | 0/1600 [00:00<?, ?it/s]"
      ]
     },
     "metadata": {},
     "output_type": "display_data"
    },
    {
     "data": {
      "application/vnd.jupyter.widget-view+json": {
       "model_id": "e519a0da4d94440dbfda9bbc207a677c",
       "version_major": 2,
       "version_minor": 0
      },
      "text/plain": [
       "嵌套MC(t=3):   0%|          | 0/4000 [00:00<?, ?it/s]"
      ]
     },
     "metadata": {},
     "output_type": "display_data"
    },
    {
     "data": {
      "application/vnd.jupyter.widget-view+json": {
       "model_id": "9ac32fa7d1f942d592c7182285e66d47",
       "version_major": 2,
       "version_minor": 0
      },
      "text/plain": [
       "Training step 3:   0%|          | 0/1600 [00:00<?, ?it/s]"
      ]
     },
     "metadata": {},
     "output_type": "display_data"
    },
    {
     "data": {
      "application/vnd.jupyter.widget-view+json": {
       "model_id": "27ca7d80efb04760858a23a4918f7182",
       "version_major": 2,
       "version_minor": 0
      },
      "text/plain": [
       "嵌套MC(t=2):   0%|          | 0/4000 [00:00<?, ?it/s]"
      ]
     },
     "metadata": {},
     "output_type": "display_data"
    },
    {
     "data": {
      "application/vnd.jupyter.widget-view+json": {
       "model_id": "1226cd97c41a49c19bbaf7681ff86729",
       "version_major": 2,
       "version_minor": 0
      },
      "text/plain": [
       "Training step 2:   0%|          | 0/1600 [00:00<?, ?it/s]"
      ]
     },
     "metadata": {},
     "output_type": "display_data"
    },
    {
     "data": {
      "application/vnd.jupyter.widget-view+json": {
       "model_id": "315a5ce68a3a4d0ba49eb300c8aa4db9",
       "version_major": 2,
       "version_minor": 0
      },
      "text/plain": [
       "嵌套MC(t=1):   0%|          | 0/4000 [00:00<?, ?it/s]"
      ]
     },
     "metadata": {},
     "output_type": "display_data"
    },
    {
     "data": {
      "application/vnd.jupyter.widget-view+json": {
       "model_id": "92a4d24f2e7b496bbbaf491e3d9d30da",
       "version_major": 2,
       "version_minor": 0
      },
      "text/plain": [
       "Training step 1:   0%|          | 0/1600 [00:00<?, ?it/s]"
      ]
     },
     "metadata": {},
     "output_type": "display_data"
    },
    {
     "data": {
      "application/vnd.jupyter.widget-view+json": {
       "model_id": "bce7bdc9c7784bd8abce175c4332f4d5",
       "version_major": 2,
       "version_minor": 0
      },
      "text/plain": [
       "嵌套MC(t=0):   0%|          | 0/4000 [00:00<?, ?it/s]"
      ]
     },
     "metadata": {},
     "output_type": "display_data"
    },
    {
     "data": {
      "application/vnd.jupyter.widget-view+json": {
       "model_id": "7649f0093b50467fa9dae4e1bb972c1d",
       "version_major": 2,
       "version_minor": 0
      },
      "text/plain": [
       "Training step 0:   0%|          | 0/1600 [00:00<?, ?it/s]"
      ]
     },
     "metadata": {},
     "output_type": "display_data"
    },
    {
     "name": "stdout",
     "output_type": "stream",
     "text": [
      "计算下界...\n"
     ]
    },
    {
     "data": {
      "application/vnd.jupyter.widget-view+json": {
       "model_id": "44c515558b984237ac34b7772b2222d0",
       "version_major": 2,
       "version_minor": 0
      },
      "text/plain": [
       "生成Black-Scholes路径:   0%|          | 0/9 [00:00<?, ?it/s]"
      ]
     },
     "metadata": {},
     "output_type": "display_data"
    },
    {
     "name": "stdout",
     "output_type": "stream",
     "text": [
      "Lower bound: 82.086 (81.923, 82.250)\n",
      "计算上界...\n"
     ]
    },
    {
     "data": {
      "application/vnd.jupyter.widget-view+json": {
       "model_id": "c2aa71ccecf24a2ea95887268155e4aa",
       "version_major": 2,
       "version_minor": 0
      },
      "text/plain": [
       "生成Black-Scholes路径:   0%|          | 0/9 [00:00<?, ?it/s]"
      ]
     },
     "metadata": {},
     "output_type": "display_data"
    },
    {
     "name": "stdout",
     "output_type": "stream",
     "text": [
      "平均行权时间: 8.99 (步数), 对应时间: 3.00 年\n"
     ]
    },
    {
     "data": {
      "application/vnd.jupyter.widget-view+json": {
       "model_id": "e110468db9cf470f8c3186685c960852",
       "version_major": 2,
       "version_minor": 0
      },
      "text/plain": [
       "Building Martingale:   0%|          | 0/9 [00:00<?, ?it/s]"
      ]
     },
     "metadata": {},
     "output_type": "display_data"
    },
    {
     "name": "stdout",
     "output_type": "stream",
     "text": [
      "时间步 1: 平均立即收益 = 0.0000, 平均继续价值 = 82.2013, ΔM均值 = 0.0000\n",
      "时间步 2: 平均立即收益 = 30.0259, 平均继续价值 = 82.1543, ΔM均值 = 0.0000\n",
      "时间步 3: 平均立即收益 = 42.6726, 平均继续价值 = 82.2405, ΔM均值 = 0.0140\n",
      "时间步 4: 平均立即收益 = 51.4013, 平均继续价值 = 82.1401, ΔM均值 = 0.1305\n",
      "时间步 5: 平均立即收益 = 58.6397, 平均继续价值 = 81.9811, ΔM均值 = 0.5767\n",
      "时间步 6: 平均立即收益 = 65.4755, 平均继续价值 = 82.2805, ΔM均值 = 1.4418\n",
      "时间步 7: 平均立即收益 = 70.6476, 平均继续价值 = 82.4111, ΔM均值 = 2.2744\n",
      "时间步 8: 平均立即收益 = 74.6769, 平均继续价值 = 81.9458, ΔM均值 = 3.0325\n",
      "时间步 9: 平均立即收益 = 78.4296, 平均继续价值 = 81.7484, ΔM均值 = 4.5627\n",
      "\n",
      "Bermudan实验结果:\n",
      "Lower bound: 82.086 (81.923, 82.250)\n",
      "Upper bound: 88.284 (87.131, 89.436)\n",
      "95% Confidence Interval: [81.923, 89.436]\n",
      "Point Estimate: 85.185\n"
     ]
    }
   ],
   "source": [
    "def run_Bermudan_experiment():\n",
    "    \"\"\"Bermudan实验 对应论文表1/2 \"\"\"\n",
    "    params = {\n",
    "        \"d\": 100,\n",
    "        \"steps\": 9,\n",
    "        \"T\": 3.0,\n",
    "        \"r\": 0.05,\n",
    "        \"sigma\": 0.2,\n",
    "        \"rho\": 0.0,\n",
    "        \"div\": 0.1\n",
    "    }\n",
    "    \n",
    "    # 初始化生成器和训练器\n",
    "    bs_gen = BlackScholesGenerator(**params)\n",
    "    print(\"BlackScholesGenerator steps:\", bs_gen.steps)\n",
    "    trainer = BermudanMaxCallTrainer(bs_gen, hidden_dim=40+params[\"d\"])\n",
    "    \n",
    "    # 训练（3000步，每批8192条路径）\n",
    "    print(\"开始训练...\")\n",
    "    trainer.train(n_paths=4000, epochs=1500+params[\"d\"],batch_size=2048)#8192,3000\n",
    "    \n",
    "    # 计算上下界\n",
    "    print(\"计算下界...\")\n",
    "    lb_result = trainer.compute_lower_bound(n_paths=100000)#4096000\n",
    "    print(f\"Lower bound: {lb_result['estimate']:.3f} ({lb_result['lower']:.3f}, {lb_result['upper']:.3f})\")\n",
    "    print(\"计算上界...\")\n",
    "    ub_result = trainer.compute_upper_bound(n_paths=1024, J=5000) #1024，16384\n",
    "    \n",
    "    # 输出结果\n",
    "    print(f\"\\nBermudan实验结果:\")\n",
    "    print(f\"Lower bound: {lb_result['estimate']:.3f} ({lb_result['lower']:.3f}, {lb_result['upper']:.3f})\")\n",
    "    print(f\"Upper bound: {ub_result['estimate']:.3f} ({ub_result['lower']:.3f}, {ub_result['upper']:.3f})\")\n",
    "    print(f\"95% Confidence Interval: [{lb_result['lower']:.3f}, {ub_result['upper']:.3f}]\")\n",
    "    print(f\"Point Estimate: {(lb_result['estimate'] + ub_result['estimate'])/2:.3f}\")\n",
    "\n",
    "print(\"========= Bermudan实验 =========\")\n",
    "run_Bermudan_experiment()"
   ]
  },
  {
   "cell_type": "code",
   "execution_count": null,
   "metadata": {},
   "outputs": [],
   "source": []
  }
 ],
 "metadata": {
  "kernelspec": {
   "display_name": "dl_env_torch",
   "language": "python",
   "name": "python3"
  },
  "language_info": {
   "codemirror_mode": {
    "name": "ipython",
    "version": 3
   },
   "file_extension": ".py",
   "mimetype": "text/x-python",
   "name": "python",
   "nbconvert_exporter": "python",
   "pygments_lexer": "ipython3",
   "version": "3.9.20"
  }
 },
 "nbformat": 4,
 "nbformat_minor": 2
}
